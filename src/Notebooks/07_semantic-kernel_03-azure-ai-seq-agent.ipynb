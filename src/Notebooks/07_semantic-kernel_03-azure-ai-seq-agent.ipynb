{
 "cells": [
  {
   "cell_type": "code",
   "execution_count": null,
   "id": "48b36d82",
   "metadata": {},
   "outputs": [],
   "source": [
    "! pip install -r requirements.txt --quiet"
   ]
  },
  {
   "cell_type": "markdown",
   "id": "ee463e4d",
   "metadata": {},
   "source": [
    "# Semantic Kernel Sequential Orchestration\n",
    "\n",
    "In sequential orchestration, agents are organized in a pipeline. Each agent processes the task in turn, passing its output to the next agent in the sequence. \n",
    "\n",
    "🔗 [Sequential Orchestration](https://learn.microsoft.com/en-us/semantic-kernel/frameworks/agent/agent-orchestration/sequential?pivots=programming-language-python)"
   ]
  },
  {
   "cell_type": "markdown",
   "id": "9c548e24",
   "metadata": {},
   "source": [
    "\n",
    "<img src=\"../../media/multi-agent-sequential.png\" alt=\"Diagram\" style=\"height:450px; width:auto;\">\n"
   ]
  },
  {
   "cell_type": "code",
   "execution_count": null,
   "id": "c6b1649f",
   "metadata": {},
   "outputs": [],
   "source": [
    "from semantic_kernel.agents import SequentialOrchestration\n",
    "from semantic_kernel import Kernel\n",
    "from semantic_kernel.agents import ChatCompletionAgent,ChatHistoryAgentThread\n",
    "from semantic_kernel.connectors.ai.open_ai import AzureChatCompletion\n",
    "from dotenv import load_dotenv\n",
    "from os import environ\n",
    "import asyncio\n",
    "from semantic_kernel.connectors.mcp import MCPStreamableHttpPlugin\n",
    "from tracing import set_up_all\n",
    "\n",
    "load_dotenv(override=True)\n",
    "\n",
    "kernel = Kernel()\n"
   ]
  },
  {
   "cell_type": "code",
   "execution_count": null,
   "id": "17a757ba",
   "metadata": {},
   "outputs": [],
   "source": [
    "set_up_all(connection_string=environ.get(\"AZURE_INSIGHT_CONNECTION_STRING\"))"
   ]
  },
  {
   "cell_type": "code",
   "execution_count": null,
   "id": "decc97bb",
   "metadata": {},
   "outputs": [],
   "source": [
    "chatCompletion = AzureChatCompletion(\n",
    "    service_id=\"chat\",\n",
    "    deployment_name=environ[\"AZURE_OPENAI_MODEL\"],\n",
    "    endpoint=environ[\"AZURE_OPENAI_ENDPOINT\"],\n",
    "    api_key=environ[\"AZURE_OPENAI_API_KEY\"],\n",
    "     api_version=environ[\"AZURE_OPENAI_API_VERSION\"] )\n",
    "\n",
    "\n",
    "reasoningCompletion = AzureChatCompletion(\n",
    "    service_id=\"reasoning\",\n",
    "    deployment_name='o3-mini',\n",
    "    endpoint=environ[\"AZURE_OPENAI_ENDPOINT\"],\n",
    "    api_key=environ[\"AZURE_OPENAI_API_KEY\"],\n",
    "     api_version=environ[\"AZURE_OPENAI_API_VERSION\"] )\n",
    "\n",
    "\n"
   ]
  },
  {
   "cell_type": "code",
   "execution_count": null,
   "id": "163eb4d5",
   "metadata": {},
   "outputs": [],
   "source": [
    "sales_plugin = MCPStreamableHttpPlugin(\n",
    "    name=\"sales\",\n",
    "    url=f\"{environ['MCP_SERVER_URL']}\",\n",
    ")\n",
    "\n",
    "await sales_plugin.connect()\n"
   ]
  },
  {
   "cell_type": "code",
   "execution_count": null,
   "id": "f386dbc6",
   "metadata": {},
   "outputs": [],
   "source": [
    "\n",
    "# Sales Data Agent\n",
    "sales_data_agent = ChatCompletionAgent(\n",
    "    name=\"SalesDataAgent\",\n",
    "    instructions=(\n",
    "        \"\"\"You are a Sales Data Agent. Your job is to:\n",
    "        - Dynamically choose and call the appropriate tool(s) to answer user questions about sales, customers, or products.\n",
    "        - Always include customer names alongside IDs in any output.\n",
    "        - Always display monetary amounts in $USD (e.g., $123.45).\n",
    "        - Use filters and aggregations as needed to generate insights from sales orders, products, and customers.\n",
    "        - Compute totals, revenue, discounts, and other metrics from nested order data.\n",
    "        - Return **complete, detailed outputs** without summarization, so that all data is available for downstream analysis.\n",
    "        - Preserve all intermediate results and raw values in your response.\n",
    "        - Avoid hardcoding analytics; rely on the MCP tools and their parameters.\n",
    "        - Clarify ambiguous queries before performing analysis.\n",
    "        - Do not ask the user follow-up questions; only return the requested records.\n",
    "        - Treat the tools as the source of truth; do not expose raw database internals.\n",
    "        - return output in table format when possible for consumption by the next agent.\n",
    "        \"\"\"\n",
    "    ),\n",
    "    plugins=[sales_plugin],\n",
    "    service=chatCompletion,\n",
    ")\n",
    "\n",
    "# Data Analysis Agent\n",
    "data_analysis_agent = ChatCompletionAgent(\n",
    "    name=\"DataAnalysisAgent\",\n",
    "    instructions=(\n",
    "        \"\"\"You are a Data Analysis Agent. Given the sales data, your job is to:\n",
    "        - Analyze and interpret the sales data provided by the SalesDataAgent.\n",
    "        - Identify trends, patterns, and insights from the sales data.\n",
    "        - Provide actionable recommendations based on the analysis.\n",
    "        - Summarize key findings in a clear and concise manner.\n",
    "        - Ensure that all analyses are relevant to the user's query and objectives.\n",
    "        - Provide Key Findings, Insights, Trends, Recommendations and a Summary in your final output.\n",
    "        \"\"\"\n",
    "    ),\n",
    "      service=reasoningCompletion,\n",
    ")"
   ]
  },
  {
   "cell_type": "markdown",
   "id": "a4b42b66",
   "metadata": {},
   "source": [
    "### Optional: Observe Agent Responses"
   ]
  },
  {
   "cell_type": "code",
   "execution_count": null,
   "id": "d92e8796",
   "metadata": {},
   "outputs": [],
   "source": [
    "from semantic_kernel.contents import ChatMessageContent\n",
    "\n",
    "def agent_response_callback(message: ChatMessageContent) -> None:\n",
    "    print(f\"# {message.name}\\n{message.content}\")"
   ]
  },
  {
   "cell_type": "markdown",
   "id": "ce848853",
   "metadata": {},
   "source": [
    "### Set Up the Sequential Orchestration"
   ]
  },
  {
   "cell_type": "code",
   "execution_count": null,
   "id": "78ad4d04",
   "metadata": {},
   "outputs": [],
   "source": [
    "agents = [sales_data_agent, data_analysis_agent]\n",
    "sequential_orchestration = SequentialOrchestration(\n",
    "    members=agents,\n",
    "    agent_response_callback=agent_response_callback,\n",
    ")"
   ]
  },
  {
   "cell_type": "markdown",
   "id": "94828b93",
   "metadata": {},
   "source": [
    "### Start the Runtime"
   ]
  },
  {
   "cell_type": "code",
   "execution_count": null,
   "id": "53f0ca79",
   "metadata": {},
   "outputs": [],
   "source": [
    "from semantic_kernel.agents.runtime import InProcessRuntime\n",
    "\n",
    "runtime = InProcessRuntime()\n",
    "runtime.start()"
   ]
  },
  {
   "cell_type": "code",
   "execution_count": null,
   "id": "0a58e489",
   "metadata": {},
   "outputs": [],
   "source": [
    "orchestration_result = await sequential_orchestration.invoke(\n",
    "    task=\"Find the top 5 customers by number of orders, and bring back order and analyze their purchasing behavior to provide actionable insights for increasing sales.\",\n",
    "    runtime=runtime,\n",
    ")"
   ]
  },
  {
   "cell_type": "code",
   "execution_count": null,
   "id": "cf62a3fa",
   "metadata": {},
   "outputs": [],
   "source": [
    "value = await orchestration_result.get(timeout=30)\n",
    "print(f\"***** Final Result *****\\n{value}\")"
   ]
  },
  {
   "cell_type": "code",
   "execution_count": null,
   "id": "7d27cf40",
   "metadata": {},
   "outputs": [],
   "source": [
    "await runtime.stop_when_idle()"
   ]
  }
 ],
 "metadata": {
  "kernelspec": {
   "display_name": ".venv",
   "language": "python",
   "name": "python3"
  },
  "language_info": {
   "codemirror_mode": {
    "name": "ipython",
    "version": 3
   },
   "file_extension": ".py",
   "mimetype": "text/x-python",
   "name": "python",
   "nbconvert_exporter": "python",
   "pygments_lexer": "ipython3",
   "version": "3.12.10"
  }
 },
 "nbformat": 4,
 "nbformat_minor": 5
}
