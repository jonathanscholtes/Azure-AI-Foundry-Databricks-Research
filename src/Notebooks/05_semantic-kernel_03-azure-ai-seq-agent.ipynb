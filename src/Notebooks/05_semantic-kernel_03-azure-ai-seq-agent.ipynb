{
 "cells": [
  {
   "cell_type": "code",
   "execution_count": null,
   "id": "48b36d82",
   "metadata": {},
   "outputs": [],
   "source": [
    "! pip install -r requirements.txt --quiet"
   ]
  },
  {
   "cell_type": "markdown",
   "id": "ee463e4d",
   "metadata": {},
   "source": [
    "# Semantic Kernel Sequential Orchestration\n",
    "\n",
    "In sequential orchestration, agents are organized in a pipeline. Each agent processes the task in turn, passing its output to the next agent in the sequence. \n",
    "\n",
    "🔗 [Sequential Orchestration](https://learn.microsoft.com/en-us/semantic-kernel/frameworks/agent/agent-orchestration/sequential?pivots=programming-language-python)"
   ]
  },
  {
   "cell_type": "markdown",
   "id": "9c548e24",
   "metadata": {},
   "source": [
    "\n",
    "<img src=\"../../media/multi-agent-sequential.png\" alt=\"Diagram\" style=\"height:450px; width:auto;\">\n"
   ]
  },
  {
   "cell_type": "code",
   "execution_count": 49,
   "id": "c6b1649f",
   "metadata": {},
   "outputs": [],
   "source": [
    "from semantic_kernel.agents import SequentialOrchestration\n",
    "from semantic_kernel import Kernel\n",
    "from semantic_kernel.agents import ChatCompletionAgent,ChatHistoryAgentThread\n",
    "from semantic_kernel.connectors.ai.open_ai import AzureChatCompletion\n",
    "from dotenv import load_dotenv\n",
    "from os import environ\n",
    "import asyncio\n",
    "from semantic_kernel.connectors.mcp import MCPStreamableHttpPlugin\n",
    "from tracing import set_up_all\n",
    "\n",
    "load_dotenv(override=True)\n",
    "\n",
    "kernel = Kernel()\n"
   ]
  },
  {
   "cell_type": "code",
   "execution_count": 50,
   "id": "17a757ba",
   "metadata": {},
   "outputs": [],
   "source": [
    "set_up_all(connection_string=environ.get(\"AZURE_INSIGHT_CONNECTION_STRING\"))"
   ]
  },
  {
   "cell_type": "code",
   "execution_count": 51,
   "id": "decc97bb",
   "metadata": {},
   "outputs": [],
   "source": [
    "chatCompletion = AzureChatCompletion(\n",
    "    service_id=\"chat\",\n",
    "    deployment_name=environ[\"AZURE_OPENAI_MODEL\"],\n",
    "    endpoint=environ[\"AZURE_OPENAI_ENDPOINT\"],\n",
    "    api_key=environ[\"AZURE_OPENAI_API_KEY\"],\n",
    "     api_version=environ[\"AZURE_OPENAI_API_VERSION\"] )\n",
    "\n",
    "\n",
    "reasoningCompletion = AzureChatCompletion(\n",
    "    service_id=\"reasoning\",\n",
    "    deployment_name='o3-mini',\n",
    "    endpoint=environ[\"AZURE_OPENAI_ENDPOINT\"],\n",
    "    api_key=environ[\"AZURE_OPENAI_API_KEY\"],\n",
    "     api_version=environ[\"AZURE_OPENAI_API_VERSION\"] )\n",
    "\n",
    "\n"
   ]
  },
  {
   "cell_type": "code",
   "execution_count": 52,
   "id": "163eb4d5",
   "metadata": {},
   "outputs": [],
   "source": [
    "sales_plugin = MCPStreamableHttpPlugin(\n",
    "    name=\"sales\",\n",
    "    url=f\"{environ['MCP_SERVER_URL']}\",\n",
    ")\n",
    "\n",
    "await sales_plugin.connect()\n"
   ]
  },
  {
   "cell_type": "code",
   "execution_count": 53,
   "id": "f386dbc6",
   "metadata": {},
   "outputs": [],
   "source": [
    "\n",
    "# Sales Data Agent\n",
    "sales_data_agent = ChatCompletionAgent(\n",
    "    name=\"SalesDataAgent\",\n",
    "    instructions=(\n",
    "        \"\"\"You are a Sales Data Agent. Your job is to:\n",
    "        - Dynamically choose and call the appropriate tool(s) to answer user questions about sales, customers, or products.\n",
    "        - Always include customer names alongside IDs in any output.\n",
    "        - Always display monetary amounts in $USD (e.g., $123.45).\n",
    "        - Use filters and aggregations as needed to generate insights from sales orders, products, and customers.\n",
    "        - Compute totals, revenue, discounts, and other metrics from nested order data.\n",
    "        - Return **complete, detailed outputs** without summarization, so that all data is available for downstream analysis.\n",
    "        - Preserve all intermediate results and raw values in your response.\n",
    "        - Avoid hardcoding analytics; rely on the MCP tools and their parameters.\n",
    "        - Clarify ambiguous queries before performing analysis.\n",
    "        - Do not ask the user follow-up questions; only return the requested records.\n",
    "        - Treat the tools as the source of truth; do not expose raw database internals.\n",
    "        - return output in table format when possible for consumption by the next agent.\n",
    "        \"\"\"\n",
    "    ),\n",
    "    plugins=[sales_plugin],\n",
    "    service=chatCompletion,\n",
    ")\n",
    "\n",
    "# Data Analysis Agent\n",
    "data_analysis_agent = ChatCompletionAgent(\n",
    "    name=\"DataAnalysisAgent\",\n",
    "    instructions=(\n",
    "        \"\"\"You are a Data Analysis Agent. Given the sales data, your job is to:\n",
    "        - Analyze and interpret the sales data provided by the SalesDataAgent.\n",
    "        - Identify trends, patterns, and insights from the sales data.\n",
    "        - Provide actionable recommendations based on the analysis.\n",
    "        - Summarize key findings in a clear and concise manner.\n",
    "        - Ensure that all analyses are relevant to the user's query and objectives.\n",
    "        - Provide Key Findings, Insights, Trends, Recommendations and a Summary in your final output.\n",
    "        \"\"\"\n",
    "    ),\n",
    "      service=reasoningCompletion,\n",
    ")"
   ]
  },
  {
   "cell_type": "markdown",
   "id": "a4b42b66",
   "metadata": {},
   "source": [
    "### Optional: Observe Agent Responses"
   ]
  },
  {
   "cell_type": "code",
   "execution_count": 54,
   "id": "d92e8796",
   "metadata": {},
   "outputs": [],
   "source": [
    "from semantic_kernel.contents import ChatMessageContent\n",
    "\n",
    "def agent_response_callback(message: ChatMessageContent) -> None:\n",
    "    print(f\"# {message.name}\\n{message.content}\")"
   ]
  },
  {
   "cell_type": "markdown",
   "id": "ce848853",
   "metadata": {},
   "source": [
    "### Set Up the Sequential Orchestration"
   ]
  },
  {
   "cell_type": "code",
   "execution_count": 55,
   "id": "78ad4d04",
   "metadata": {},
   "outputs": [],
   "source": [
    "agents = [sales_data_agent, data_analysis_agent]\n",
    "sequential_orchestration = SequentialOrchestration(\n",
    "    members=agents,\n",
    "    agent_response_callback=agent_response_callback,\n",
    ")"
   ]
  },
  {
   "cell_type": "markdown",
   "id": "94828b93",
   "metadata": {},
   "source": [
    "### Start the Runtime"
   ]
  },
  {
   "cell_type": "code",
   "execution_count": 56,
   "id": "53f0ca79",
   "metadata": {},
   "outputs": [
    {
     "name": "stdout",
     "output_type": "stream",
     "text": [
      "# SalesDataAgent\n",
      "\n",
      "# SalesDataAgent\n",
      "\n",
      "# SalesDataAgent\n",
      "Based on the orders retrieved, here are insights into purchasing behavior and actionable strategies to increase sales for the top 5 customers by number of orders:\n",
      "\n",
      "### Top 5 Customers by Number of Orders:\n",
      "| Customer ID | Customer Name | Total Orders | Total Revenue ($USD) |\n",
      "|-------------|---------------|--------------|-----------------------|\n",
      "| 3           | Bosch         | 35           | 73,925.38            |\n",
      "| 4           | NAPA          | 30           | 37,812.34            |\n",
      "| 0           | Ford          | 25           | 30,512.5             |\n",
      "| 2           | AutoZone      | 22           | 28,645.29            |\n",
      "| 1           | GM            | 21           | 27,968.21            |\n",
      "\n",
      "### Insights into Purchasing Behavior:\n",
      "1. **Bosch**\n",
      "   - **Main Products Purchased:** Brake Pads, Oil Filters, and Spark Plugs.\n",
      "   - **Revenue Contribution:** Highest overall revenue.\n",
      "   - **Regions:** Orders span NA and EU regions.\n",
      "   - **Quantity Purchases:** Large volumes of brake pads and oil filters reflect repair chain or mass supply business.\n",
      "\n",
      "2. **NAPA**\n",
      "   - **Main Products Purchased:** Brake Pads and Oil Filters.\n",
      "   - **Revenue Contribution:** Second-highest revenue contribution.\n",
      "   - **Regions:** Concentrated heavily in NA region, suggesting regional dominance.\n",
      "   - **Bulk Orders:** Purchases tend to be consistent in large quantities, a clear sign of a wholesale model.\n",
      "\n",
      "3. **Ford**\n",
      "   - **Main Products Purchased:** Brake Pads, Spark Plugs, and Oil Filters.\n",
      "   - **Revenue Contribution:** Strong partner for consistent procurement.\n",
      "   - **Regions:** Heavy presence in NA region.\n",
      "   - **Diversified Ordering:** A mixture of bulk and varied orders.\n",
      "\n",
      "4. **AutoZone**\n",
      "   - **Main Products Purchased:** Spark Plugs and Brake Pads with smaller quantities of Oil Filters.\n",
      "   - **Revenue Contribution:** Focused supply chain with frequent orders in limited quantities.\n",
      "   - **Regions:** NA and EU regions.\n",
      "   - **Behavior:** Less bulk purchases compared to others but has varied order combinations.\n",
      "\n",
      "5. **GM**\n",
      "   - **Main Products Purchased:** High bulk purchases of Brake Pads.\n",
      "   - **Revenue Contribution:** NA-centric model with a marginal EU presence.\n",
      "   - **Order Patterns:** Mainly bulk orders for specific product categories.\n",
      "\n",
      "### Suggested Actionable Strategies:\n",
      "1. **Upselling:** \n",
      "   - Introduce bundle deals combining Brake Pads, Oil Filters, and Spark Plugs for Bosch and NAPA to yield higher returns per sale.\n",
      "\n",
      "2. **Cross-Selling Opportunities:** \n",
      "   - Offer Ford and GM customers products they order less frequently, such as Spark Plugs, alongside their regular bulk purchases.\n",
      "\n",
      "3. **Loyalty Programs:**\n",
      "   - Boost retention for Bosch and NAPA with loyalty rewards for achieving high bulk-tier orders.\n",
      "\n",
      "4. **Target New Markets for Ford and AutoZone:**\n",
      "   - Expand product outreach in EU markets to increase order volumes for these customers.\n",
      "\n",
      "5. **Customized Campaigns:**\n",
      "   - Direct marketing campaigns focusing on core products purchased by each customer to enhance purchasing volume.\n",
      "\n",
      "These strategies aim at leveraging the order data and purchasing insights to drive sales and enhance customer relationships effectively.\n",
      "# DataAnalysisAgent\n",
      "Below is the comprehensive analysis based on the provided sales data for the top 5 customers:\n",
      "\n",
      "──────────────────────────────\n",
      "Key Findings:\n",
      "──────────────────────────────\n",
      "• Bosch leads in both order count (35 orders) and revenue ($73,925.38), indicating it as the strongest revenue contributor.\n",
      "• NAPA is the second leader with 30 orders and substantial revenue ($37,812.34), primarily focused on the North American market.\n",
      "• Ford, AutoZone, and GM also maintain significant order volumes (25, 22, and 21 orders respectively) and show varied purchasing patterns across product categories and regions.\n",
      "• The main recurring products are Brake Pads, Oil Filters, and Spark Plugs, with bulk purchases dominating in a few cases (e.g., Bosch, GM).\n",
      "\n",
      "──────────────────────────────\n",
      "Insights:\n",
      "──────────────────────────────\n",
      "• Product Preferences: \n",
      "  - Bosch and NAPA purchase large volumes of Brake Pads and Oil Filters, suggesting demand for key maintenance items.\n",
      "  - Ford exhibits a more diversified buying behavior, with a mix of bulk orders and varied product types including Spark Plugs.\n",
      "  - AutoZone and GM tend to focus on core products (such as Brake Pads) but with differing quantities—AutoZone having a broader mix while GM focuses mainly on bulk purchases.\n",
      "• Regional Dynamics:\n",
      "  - Bosch and Ford show a presence in both North America and Europe, highlighting potential for further market penetration in the EU market.\n",
      "  - NAPA and GM are predominantly NA-driven, suggesting targeted regional strategies.\n",
      "• Purchasing Behavior: \n",
      "  - High order frequency coupled with bulk ordering in some customers indicates stable and possibly long-term supply chain relationships.\n",
      "\n",
      "──────────────────────────────\n",
      "Trends:\n",
      "──────────────────────────────\n",
      "• Consistent Demand for Key Components:\n",
      "  - There is a robust demand for Brake Pads and Oil Filters across the board, with these items driving revenue contributions.\n",
      "• Regional Concentration:\n",
      "  - North America is the dominant market for most high-volume customers, with selective presence in Europe. This trend suggests focusing on regional marketing tactics.\n",
      "• Order Volume Variability:\n",
      "  - While some customers favor high-volume orders (e.g., Bosch and NAPA), others (like AutoZone) order smaller quantities more consistently, indicating varying operational models (wholesale vs. just-in-time replenishment).\n",
      "• Potential for Bundling:\n",
      "  - The overlapping purchase patterns hint at the potential success of product bundling or combined offers to boost order values.\n",
      "\n",
      "──────────────────────────────\n",
      "Recommendations:\n",
      "──────────────────────────────\n",
      "1. Upselling and Bundling Initiatives:\n",
      "   - Create bundle offers that combine Brake Pads, Oil Filters, and Spark Plugs, especially for high-volume customers like Bosch and NAPA, to increase the average revenue per order.\n",
      "2. Cross-Selling Strategies:\n",
      "   - For customers like Ford and GM, promote products they order less frequently. For instance, if GM is mainly ordering Brake Pads, introduce complementary offerings such as Spark Plugs or Oil Filters to diversify their order mix.\n",
      "3. Implement Loyalty Programs:\n",
      "   - Develop loyalty rewards or incentive schemes for top customers that reward bulk purchases. This can further encourage larger orders and long-term business commitment.\n",
      "4. Market Expansion in Under-Tapped Regions:\n",
      "   - Since Bosch and Ford already have a presence in Europe, invest in targeted marketing and logistical support to expand similar success in the EU market for other customers like AutoZone.\n",
      "5. Customized Marketing Campaigns:\n",
      "   - Tailor marketing and sales campaigns based on each customer’s primary purchasing patterns. For example, focus campaigns on reliability and cost-efficiency for customers primarily buying essential components.\n",
      "\n",
      "──────────────────────────────\n",
      "Summary:\n",
      "──────────────────────────────\n",
      "The data analysis highlights that the leading customers (Bosch, NAPA, Ford, AutoZone, and GM) emphasize high-volume orders of essential auto components such as Brake Pads, Oil Filters, and Spark Plugs. While North America remains the key market, there is untapped potential in the European region, particularly for customers with a proven cross-regional presence. By leveraging tailored upselling, bundling, cross-selling, and loyalty initiatives, the company can enhance customer retention, stimulate larger orders, and tap into new market segments. The actionable strategies provided aim to optimize revenue growth and deepen customer relationships by aligning sales practices with observed purchasing behaviors and regional trends.\n",
      "\n",
      "This comprehensive approach should drive not only an increase in overall revenue but also foster stronger, long-lasting relationships with the core customer base.\n"
     ]
    }
   ],
   "source": [
    "from semantic_kernel.agents.runtime import InProcessRuntime\n",
    "\n",
    "runtime = InProcessRuntime()\n",
    "runtime.start()"
   ]
  },
  {
   "cell_type": "code",
   "execution_count": 57,
   "id": "0a58e489",
   "metadata": {},
   "outputs": [],
   "source": [
    "orchestration_result = await sequential_orchestration.invoke(\n",
    "    task=\"Find the top 5 customers by number of orders, and bring back order and analyze their purchasing behavior to provide actionable insights for increasing sales.\",\n",
    "    runtime=runtime,\n",
    ")"
   ]
  },
  {
   "cell_type": "code",
   "execution_count": 58,
   "id": "cf62a3fa",
   "metadata": {},
   "outputs": [
    {
     "ename": "TimeoutError",
     "evalue": "",
     "output_type": "error",
     "traceback": [
      "\u001b[31m---------------------------------------------------------------------------\u001b[39m",
      "\u001b[31mCancelledError\u001b[39m                            Traceback (most recent call last)",
      "\u001b[36mFile \u001b[39m\u001b[32m~\\AppData\\Local\\Programs\\Python\\Python312\\Lib\\asyncio\\tasks.py:520\u001b[39m, in \u001b[36mwait_for\u001b[39m\u001b[34m(fut, timeout)\u001b[39m\n\u001b[32m    519\u001b[39m \u001b[38;5;28;01masync\u001b[39;00m \u001b[38;5;28;01mwith\u001b[39;00m timeouts.timeout(timeout):\n\u001b[32m--> \u001b[39m\u001b[32m520\u001b[39m     \u001b[38;5;28;01mreturn\u001b[39;00m \u001b[38;5;28;01mawait\u001b[39;00m fut\n",
      "\u001b[36mFile \u001b[39m\u001b[32m~\\AppData\\Local\\Programs\\Python\\Python312\\Lib\\asyncio\\locks.py:212\u001b[39m, in \u001b[36mEvent.wait\u001b[39m\u001b[34m(self)\u001b[39m\n\u001b[32m    211\u001b[39m \u001b[38;5;28;01mtry\u001b[39;00m:\n\u001b[32m--> \u001b[39m\u001b[32m212\u001b[39m     \u001b[38;5;28;01mawait\u001b[39;00m fut\n\u001b[32m    213\u001b[39m     \u001b[38;5;28;01mreturn\u001b[39;00m \u001b[38;5;28;01mTrue\u001b[39;00m\n",
      "\u001b[31mCancelledError\u001b[39m: ",
      "\nThe above exception was the direct cause of the following exception:\n",
      "\u001b[31mTimeoutError\u001b[39m                              Traceback (most recent call last)",
      "\u001b[36mCell\u001b[39m\u001b[36m \u001b[39m\u001b[32mIn[58]\u001b[39m\u001b[32m, line 1\u001b[39m\n\u001b[32m----> \u001b[39m\u001b[32m1\u001b[39m value = \u001b[38;5;28;01mawait\u001b[39;00m orchestration_result.get(timeout=\u001b[32m30\u001b[39m)\n\u001b[32m      2\u001b[39m \u001b[38;5;28mprint\u001b[39m(\u001b[33mf\u001b[39m\u001b[33m\"\u001b[39m\u001b[33m***** Final Result *****\u001b[39m\u001b[38;5;130;01m\\n\u001b[39;00m\u001b[38;5;132;01m{\u001b[39;00mvalue\u001b[38;5;132;01m}\u001b[39;00m\u001b[33m\"\u001b[39m)\n",
      "\u001b[36mFile \u001b[39m\u001b[32mc:\\Users\\joscholt\\Documents\\GitHub\\Azure-AI-Foundry-Databricks-Research\\.venv\\Lib\\site-packages\\semantic_kernel\\agents\\orchestration\\orchestration_base.py:57\u001b[39m, in \u001b[36mOrchestrationResult.get\u001b[39m\u001b[34m(self, timeout)\u001b[39m\n\u001b[32m     44\u001b[39m \u001b[38;5;250m\u001b[39m\u001b[33;03m\"\"\"Get the result of the invocation.\u001b[39;00m\n\u001b[32m     45\u001b[39m \n\u001b[32m     46\u001b[39m \u001b[33;03mIf a timeout is specified, the method will wait for the result for the specified time.\u001b[39;00m\n\u001b[32m   (...)\u001b[39m\u001b[32m     54\u001b[39m \u001b[33;03m    TOut: The result of the invocation.\u001b[39;00m\n\u001b[32m     55\u001b[39m \u001b[33;03m\"\"\"\u001b[39;00m\n\u001b[32m     56\u001b[39m \u001b[38;5;28;01mif\u001b[39;00m timeout \u001b[38;5;129;01mis\u001b[39;00m \u001b[38;5;129;01mnot\u001b[39;00m \u001b[38;5;28;01mNone\u001b[39;00m:\n\u001b[32m---> \u001b[39m\u001b[32m57\u001b[39m     \u001b[38;5;28;01mawait\u001b[39;00m asyncio.wait_for(\u001b[38;5;28mself\u001b[39m.event.wait(), timeout=timeout)\n\u001b[32m     58\u001b[39m \u001b[38;5;28;01melse\u001b[39;00m:\n\u001b[32m     59\u001b[39m     \u001b[38;5;28;01mawait\u001b[39;00m \u001b[38;5;28mself\u001b[39m.event.wait()\n",
      "\u001b[36mFile \u001b[39m\u001b[32m~\\AppData\\Local\\Programs\\Python\\Python312\\Lib\\asyncio\\tasks.py:519\u001b[39m, in \u001b[36mwait_for\u001b[39m\u001b[34m(fut, timeout)\u001b[39m\n\u001b[32m    516\u001b[39m     \u001b[38;5;28;01mexcept\u001b[39;00m exceptions.CancelledError \u001b[38;5;28;01mas\u001b[39;00m exc:\n\u001b[32m    517\u001b[39m         \u001b[38;5;28;01mraise\u001b[39;00m \u001b[38;5;167;01mTimeoutError\u001b[39;00m \u001b[38;5;28;01mfrom\u001b[39;00m\u001b[38;5;250m \u001b[39m\u001b[34;01mexc\u001b[39;00m\n\u001b[32m--> \u001b[39m\u001b[32m519\u001b[39m \u001b[38;5;28;01masync\u001b[39;00m \u001b[38;5;28;01mwith\u001b[39;00m timeouts.timeout(timeout):\n\u001b[32m    520\u001b[39m     \u001b[38;5;28;01mreturn\u001b[39;00m \u001b[38;5;28;01mawait\u001b[39;00m fut\n",
      "\u001b[36mFile \u001b[39m\u001b[32m~\\AppData\\Local\\Programs\\Python\\Python312\\Lib\\asyncio\\timeouts.py:115\u001b[39m, in \u001b[36mTimeout.__aexit__\u001b[39m\u001b[34m(self, exc_type, exc_val, exc_tb)\u001b[39m\n\u001b[32m    110\u001b[39m     \u001b[38;5;28mself\u001b[39m._state = _State.EXPIRED\n\u001b[32m    112\u001b[39m     \u001b[38;5;28;01mif\u001b[39;00m \u001b[38;5;28mself\u001b[39m._task.uncancel() <= \u001b[38;5;28mself\u001b[39m._cancelling \u001b[38;5;129;01mand\u001b[39;00m exc_type \u001b[38;5;129;01mis\u001b[39;00m exceptions.CancelledError:\n\u001b[32m    113\u001b[39m         \u001b[38;5;66;03m# Since there are no new cancel requests, we're\u001b[39;00m\n\u001b[32m    114\u001b[39m         \u001b[38;5;66;03m# handling this.\u001b[39;00m\n\u001b[32m--> \u001b[39m\u001b[32m115\u001b[39m         \u001b[38;5;28;01mraise\u001b[39;00m \u001b[38;5;167;01mTimeoutError\u001b[39;00m \u001b[38;5;28;01mfrom\u001b[39;00m\u001b[38;5;250m \u001b[39m\u001b[34;01mexc_val\u001b[39;00m\n\u001b[32m    116\u001b[39m \u001b[38;5;28;01melif\u001b[39;00m \u001b[38;5;28mself\u001b[39m._state \u001b[38;5;129;01mis\u001b[39;00m _State.ENTERED:\n\u001b[32m    117\u001b[39m     \u001b[38;5;28mself\u001b[39m._state = _State.EXITED\n",
      "\u001b[31mTimeoutError\u001b[39m: "
     ]
    }
   ],
   "source": [
    "value = await orchestration_result.get(timeout=30)\n",
    "print(f\"***** Final Result *****\\n{value}\")"
   ]
  },
  {
   "cell_type": "code",
   "execution_count": null,
   "id": "7d27cf40",
   "metadata": {},
   "outputs": [],
   "source": [
    "await runtime.stop_when_idle()"
   ]
  }
 ],
 "metadata": {
  "kernelspec": {
   "display_name": ".venv",
   "language": "python",
   "name": "python3"
  },
  "language_info": {
   "codemirror_mode": {
    "name": "ipython",
    "version": 3
   },
   "file_extension": ".py",
   "mimetype": "text/x-python",
   "name": "python",
   "nbconvert_exporter": "python",
   "pygments_lexer": "ipython3",
   "version": "3.12.10"
  }
 },
 "nbformat": 4,
 "nbformat_minor": 5
}
