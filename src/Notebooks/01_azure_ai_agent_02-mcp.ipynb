{
 "cells": [
  {
   "cell_type": "code",
   "execution_count": null,
   "id": "f726bd31",
   "metadata": {},
   "outputs": [],
   "source": [
    "! pip install -r requirements.txt --quiet"
   ]
  },
  {
   "cell_type": "markdown",
   "id": "460ecb91",
   "metadata": {},
   "source": [
    "# Creating and Deploying an Azure AI Agent Using SDK and MCP Tools\n",
    "\n",
    "This notebook demonstrates how to create and deploy an Azure AI Agent using the Azure SDK, with tools generated from an OpenAPI endpoint. It provides a coded example that mirrors the portal example demonstrated in this workshop, offering a programmatic approach to deploying agents with OpenAPI-driven tools.\n",
    "\n",
    "\n",
    "🔗 [How to use the Model Context Protocol tool](https://learn.microsoft.com/en-us/azure/ai-foundry/agents/how-to/tools/model-context-protocol-samples)"
   ]
  },
  {
   "cell_type": "code",
   "execution_count": null,
   "id": "1b478234",
   "metadata": {},
   "outputs": [],
   "source": [
    "\n",
    "from os import environ\n",
    "import time\n",
    "from dotenv import load_dotenv\n",
    "from azure.ai.projects import AIProjectClient\n",
    "from azure.identity import DefaultAzureCredential\n",
    "from azure.ai.agents.models import (\n",
    "    ListSortOrder, \n",
    "    McpTool,\n",
    "    RequiredMcpToolCall,\n",
    "    RunStepActivityDetails,\n",
    "    SubmitToolApprovalAction,\n",
    "    ToolApproval,\n",
    ")\n",
    "\n",
    "load_dotenv(override=True)"
   ]
  },
  {
   "cell_type": "markdown",
   "id": "a3b6b338",
   "metadata": {},
   "source": [
    "## Get MCP server configuration from environment variables"
   ]
  },
  {
   "cell_type": "code",
   "execution_count": null,
   "id": "d044c5ca",
   "metadata": {},
   "outputs": [],
   "source": [
    "\n",
    "mcp_server_url = environ[\"MCP_SERVER_URL\"]\n",
    "mcp_server_label = environ[\"MCP_SERVER_LABEL\"] "
   ]
  },
  {
   "cell_type": "markdown",
   "id": "0a862bfa",
   "metadata": {},
   "source": [
    "## Create a project client"
   ]
  },
  {
   "cell_type": "code",
   "execution_count": null,
   "id": "36653bcd",
   "metadata": {},
   "outputs": [],
   "source": [
    "\n",
    "# Create an AIProjectClient instance\n",
    "project_client = AIProjectClient(\n",
    "    endpoint=environ[\"PROJECT_ENDPOINT\"],\n",
    "    credential=DefaultAzureCredential(),  # Use Azure Default Credential for authentication\n",
    ")"
   ]
  },
  {
   "cell_type": "code",
   "execution_count": null,
   "id": "ca14f26b",
   "metadata": {},
   "outputs": [],
   "source": [
    "project_client.telemetry.get_application_insights_connection_string"
   ]
  },
  {
   "cell_type": "markdown",
   "id": "0199164a",
   "metadata": {},
   "source": [
    "## Initialize agent MCP tool"
   ]
  },
  {
   "cell_type": "code",
   "execution_count": null,
   "id": "34075e02",
   "metadata": {},
   "outputs": [],
   "source": [
    "mcp_tool = McpTool(\n",
    "    server_label=mcp_server_label,\n",
    "    server_url=mcp_server_url,\n",
    "    allowed_tools=['get_customers','get_orders','get_products']\n",
    ")\n",
    "\n",
    "print(f\"Allowed tools: {mcp_tool.allowed_tools}\")"
   ]
  },
  {
   "cell_type": "markdown",
   "id": "907444e4",
   "metadata": {},
   "source": [
    "## Create an agent and a thread"
   ]
  },
  {
   "cell_type": "code",
   "execution_count": null,
   "id": "ee7bf68c",
   "metadata": {},
   "outputs": [],
   "source": [
    "instructions = \"\"\"You are AutoSales Analyst, an AI agent specialized in analyzing automotive sales data.\n",
    "\n",
    "Your objectives:\n",
    "- Dynamically choose and call the appropriate MCP tool(s) to answer user questions about sales, customers, or products.\n",
    "- Always include customer names alongside IDs in any output.\n",
    "- Always display monetary amounts in $USD (e.g., $123.45).\n",
    "- Use filters and aggregations as needed to generate insights from sales orders, products, and customers.\n",
    "- Compute totals, revenue, discounts, and other metrics from nested order data.\n",
    "- Return structured, concise results suitable for analysis or reporting.\n",
    "- Avoid hardcoding analytics; rely on the MCP tools and their parameters.\n",
    "- Clarify ambiguous queries before performing analysis.\n",
    "- Treat the MCP tools as the source of truth; do not expose raw database internals.\n",
    "\n",
    "Behavioral guidance:\n",
    "- For customer-related questions, resolve names and IDs before analyzing orders.\n",
    "- For product-related questions, resolve categories or IDs before analyzing sales.\n",
    "\n",
    "Example user questions:\n",
    "- \"Which products generated the most revenue in the EU last quarter?\"\n",
    "- \"Who are the top 5 customers by total sales this month?\"\n",
    "- \"How much discount was given per product category in Q2?\"\n",
    "- \"List all orders for customer 42 containing product 7.\"\n",
    "\"\"\"\n",
    "\n",
    "\n",
    "\n",
    "agent = project_client.agents.create_agent(\n",
    "    model=\"gpt-4o\",\n",
    "    name=\"Sales Insights Agent MCP\",\n",
    "    instructions=instructions,\n",
    "    tools=mcp_tool.definitions\n",
    ")\n",
    "\n",
    "print(f\"Created agent, ID: {agent.id}\")\n",
    "\n",
    "\n",
    "\n",
    "thread = project_client.agents.threads.create()\n",
    "print(f\"Created thread, ID: {thread.id}\")"
   ]
  },
  {
   "cell_type": "code",
   "execution_count": null,
   "id": "24b4d85e",
   "metadata": {},
   "outputs": [],
   "source": [
    "message = project_client.agents.messages.create(\n",
    "    thread_id=thread.id,\n",
    "    role=\"user\",\n",
    "    content=\"Which products generated the most revenue (using line_total)?\",\n",
    ")\n",
    "print(f\"Created message, ID: {message.id}\")\n",
    "\n"
   ]
  },
  {
   "cell_type": "code",
   "execution_count": null,
   "id": "27bfdd6a",
   "metadata": {},
   "outputs": [],
   "source": [
    "run = project_client.agents.runs.create(thread_id=thread.id, agent_id=agent.id, tool_resources=mcp_tool.resources)\n",
    "print(f\"Created run, ID: {run.id}\")\n",
    "\n",
    "while run.status in [\"queued\", \"in_progress\", \"requires_action\"]:\n",
    "    time.sleep(1)\n",
    "    run = project_client.agents.runs.get(thread_id=thread.id, run_id=run.id)\n",
    "\n",
    "    if run.status == \"requires_action\" and isinstance(run.required_action, SubmitToolApprovalAction):\n",
    "        tool_calls = run.required_action.submit_tool_approval.tool_calls\n",
    "        if not tool_calls:\n",
    "            print(\"No tool calls provided - cancelling run\")\n",
    "            project_client.runs.cancel(thread_id=thread.id, run_id=run.id)\n",
    "            break\n",
    "\n",
    "        tool_approvals = []\n",
    "        for tool_call in tool_calls:\n",
    "            if isinstance(tool_call, RequiredMcpToolCall):\n",
    "                try:\n",
    "                    print(f\"Approving tool call: {tool_call}\")\n",
    "                    tool_approvals.append(\n",
    "                        ToolApproval(\n",
    "                            tool_call_id=tool_call.id,\n",
    "                            approve=True,\n",
    "                            headers=mcp_tool.headers,\n",
    "                        )\n",
    "                    )\n",
    "                except Exception as e:\n",
    "                    print(f\"Error approving tool_call {tool_call.id}: {e}\")\n",
    "\n",
    "        print(f\"tool_approvals: {tool_approvals}\")\n",
    "        if tool_approvals:\n",
    "            project_client.agents.runs.submit_tool_outputs(\n",
    "                thread_id=thread.id, run_id=run.id, tool_approvals=tool_approvals\n",
    "            )\n",
    "\n",
    "    print(f\"Current run status: {run.status}\")\n",
    "\n",
    "print(f\"Run completed with status: {run.status}\")\n",
    "if run.status == \"failed\":\n",
    "    print(f\"Run failed: {run.last_error}\")\n",
    "\n",
    "# Display run steps and tool calls\n",
    "run_steps = project_client.agents.run_steps.list(thread_id=thread.id, run_id=run.id)"
   ]
  },
  {
   "cell_type": "code",
   "execution_count": null,
   "id": "18fdc980",
   "metadata": {},
   "outputs": [],
   "source": [
    "# Fetch and log all messages\n",
    "messages = project_client.agents.messages.list(thread_id=thread.id, order=ListSortOrder.ASCENDING)\n",
    "print(\"\\nConversation:\")\n",
    "print(\"-\" * 50)\n",
    "for msg in messages:\n",
    "    if msg.text_messages:\n",
    "        last_text = msg.text_messages[-1]\n",
    "        print(f\"{msg.role.upper()}: {last_text.text.value}\")\n",
    "        print(\"-\" * 50)"
   ]
  },
  {
   "cell_type": "code",
   "execution_count": null,
   "id": "14e05ae4",
   "metadata": {},
   "outputs": [],
   "source": [
    "project_client.agents.delete_agent(agent.id)\n",
    "print(\"Deleted agent\")"
   ]
  }
 ],
 "metadata": {
  "kernelspec": {
   "display_name": ".venv",
   "language": "python",
   "name": "python3"
  },
  "language_info": {
   "codemirror_mode": {
    "name": "ipython",
    "version": 3
   },
   "file_extension": ".py",
   "mimetype": "text/x-python",
   "name": "python",
   "nbconvert_exporter": "python",
   "pygments_lexer": "ipython3",
   "version": "3.12.10"
  }
 },
 "nbformat": 4,
 "nbformat_minor": 5
}
