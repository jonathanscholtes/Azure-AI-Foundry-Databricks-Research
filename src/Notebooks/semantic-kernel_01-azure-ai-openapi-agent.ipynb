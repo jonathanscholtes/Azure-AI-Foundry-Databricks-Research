{
 "cells": [
  {
   "cell_type": "code",
   "execution_count": 2,
   "id": "92a4c472",
   "metadata": {},
   "outputs": [],
   "source": [
    "! pip install -r requirements.txt --quiet"
   ]
  },
  {
   "cell_type": "markdown",
   "id": "99d9c0f3",
   "metadata": {},
   "source": [
    "# Semenatic Kernel and the OpenAPI Plugin\n",
    "\n",
    "\n",
    "🔗 [Add plugins from OpenAPI specifications](https://learn.microsoft.com/en-us/semantic-kernel/concepts/plugins/adding-openapi-plugins)"
   ]
  },
  {
   "cell_type": "code",
   "execution_count": 8,
   "id": "6c3f6ae9",
   "metadata": {},
   "outputs": [
    {
     "data": {
      "text/plain": [
       "True"
      ]
     },
     "execution_count": 8,
     "metadata": {},
     "output_type": "execute_result"
    }
   ],
   "source": [
    "from semantic_kernel import Kernel\n",
    "from semantic_kernel.agents import ChatCompletionAgent,ChatHistoryAgentThread\n",
    "from semantic_kernel.connectors.ai.open_ai import AzureChatCompletion\n",
    "from semantic_kernel.connectors.openapi_plugin import OpenAPIFunctionExecutionParameters\n",
    "from dotenv import load_dotenv\n",
    "from os import environ\n",
    "import asyncio\n",
    "import requests\n",
    "\n",
    "load_dotenv(override=True)\n"
   ]
  },
  {
   "cell_type": "code",
   "execution_count": 9,
   "id": "38c8e8bf",
   "metadata": {},
   "outputs": [
    {
     "data": {
      "text/plain": [
       "KernelPlugin(name='sales', description=None, functions={'list_customers_customers_customers_get': KernelFunctionFromMethod(metadata=KernelFunctionMetadata(name='list_customers_customers_customers_get', plugin_name='sales', description='Retrieve customers', parameters=[KernelParameterMetadata(name='industry', description='Filter by industry', default_value='', type_='string', is_required=False, type_object=None, schema_data={'anyOf': [{'type': 'string'}, {'type': 'null'}], 'description': 'Filter by industry', 'title': 'Industry'}, include_in_function_choices=True), KernelParameterMetadata(name='account_manager', description='Filter by account manager', default_value='', type_='string', is_required=False, type_object=None, schema_data={'anyOf': [{'type': 'string'}, {'type': 'null'}], 'description': 'Filter by account manager', 'title': 'Account Manager'}, include_in_function_choices=True), KernelParameterMetadata(name='limit', description='Maximum number of customers to return', default_value='', type_='integer', is_required=False, type_object=None, schema_data={'type': 'integer', 'description': 'Maximum number of customers to return', 'default': 100, 'title': 'Limit'}, include_in_function_choices=True)], is_prompt=False, is_asynchronous=True, return_parameter=KernelParameterMetadata(name='return', description='Successful Response', default_value=None, type_='array', is_required=False, type_object=None, schema_data={'type': 'array', 'items': {'properties': {'customer_id': {'type': 'integer', 'title': 'Customer Id'}, 'customer_name': {'type': 'string', 'title': 'Customer Name'}, 'region': {'type': 'string', 'title': 'Region'}, 'industry': {'type': 'string', 'title': 'Industry'}, 'account_manager': {'type': 'string', 'title': 'Account Manager'}}, 'type': 'object', 'required': ['customer_id', 'customer_name', 'region', 'industry', 'account_manager'], 'title': 'Customer'}, 'title': 'Response List Customers Customers Customers Get'}, include_in_function_choices=True), additional_properties={'method': 'GET', 'operation': <semantic_kernel.connectors.openapi_plugin.models.rest_api_operation.RestApiOperation object at 0x000001E5F4F92B40>, 'server-urls': ['https://api-sales-demo-vnheaxrorgj4.azurewebsites.net'], 'security': []}), invocation_duration_histogram=<opentelemetry.metrics._internal.instrument._ProxyHistogram object at 0x000001E5F42E0B60>, streaming_duration_histogram=<opentelemetry.metrics._internal.instrument._ProxyHistogram object at 0x000001E5F42E3A40>, method=<function _create_function_from_operation.<locals>.run_openapi_operation at 0x000001E5F3F47100>, stream_method=None), 'list_products_products_products_get': KernelFunctionFromMethod(metadata=KernelFunctionMetadata(name='list_products_products_products_get', plugin_name='sales', description='Retrieve products', parameters=[KernelParameterMetadata(name='category', description='Filter by product category', default_value='', type_='string', is_required=False, type_object=None, schema_data={'anyOf': [{'type': 'string'}, {'type': 'null'}], 'description': 'Filter by product category', 'title': 'Category'}, include_in_function_choices=True), KernelParameterMetadata(name='limit', description='Maximum number of products to return', default_value='', type_='integer', is_required=False, type_object=None, schema_data={'type': 'integer', 'description': 'Maximum number of products to return', 'default': 100, 'title': 'Limit'}, include_in_function_choices=True)], is_prompt=False, is_asynchronous=True, return_parameter=KernelParameterMetadata(name='return', description='Successful Response', default_value=None, type_='array', is_required=False, type_object=None, schema_data={'type': 'array', 'items': {'properties': {'product_id': {'type': 'integer', 'title': 'Product Id'}, 'product_name': {'type': 'string', 'title': 'Product Name'}, 'product_category': {'type': 'string', 'title': 'Product Category'}, 'unit_cost': {'type': 'number', 'title': 'Unit Cost'}, 'unit_price': {'type': 'number', 'title': 'Unit Price'}}, 'type': 'object', 'required': ['product_id', 'product_name', 'product_category', 'unit_cost', 'unit_price'], 'title': 'Product'}, 'title': 'Response List Products Products Products Get'}, include_in_function_choices=True), additional_properties={'method': 'GET', 'operation': <semantic_kernel.connectors.openapi_plugin.models.rest_api_operation.RestApiOperation object at 0x000001E5F4C793D0>, 'server-urls': ['https://api-sales-demo-vnheaxrorgj4.azurewebsites.net'], 'security': []}), invocation_duration_histogram=<opentelemetry.metrics._internal.instrument._ProxyHistogram object at 0x000001E5F4F925D0>, streaming_duration_histogram=<opentelemetry.metrics._internal.instrument._ProxyHistogram object at 0x000001E5F4F917C0>, method=<function _create_function_from_operation.<locals>.run_openapi_operation at 0x000001E5F528C680>, stream_method=None), 'list_orders_orders_orders_get': KernelFunctionFromMethod(metadata=KernelFunctionMetadata(name='list_orders_orders_orders_get', plugin_name='sales', description='Retrieve orders with filters', parameters=[KernelParameterMetadata(name='customer_id', description='Filter by customer ID', default_value='', type_='string', is_required=False, type_object=None, schema_data={'anyOf': [{'type': 'integer'}, {'type': 'null'}], 'description': 'Filter by customer ID', 'title': 'Customer Id'}, include_in_function_choices=True), KernelParameterMetadata(name='product_id', description='Filter by product ID', default_value='', type_='string', is_required=False, type_object=None, schema_data={'anyOf': [{'type': 'integer'}, {'type': 'null'}], 'description': 'Filter by product ID', 'title': 'Product Id'}, include_in_function_choices=True), KernelParameterMetadata(name='start_date', description='Filter orders on or after this date', default_value='', type_='string', is_required=False, type_object=None, schema_data={'anyOf': [{'type': 'string', 'format': 'date'}, {'type': 'null'}], 'description': 'Filter orders on or after this date', 'title': 'Start Date'}, include_in_function_choices=True), KernelParameterMetadata(name='end_date', description='Filter orders on or before this date', default_value='', type_='string', is_required=False, type_object=None, schema_data={'anyOf': [{'type': 'string', 'format': 'date'}, {'type': 'null'}], 'description': 'Filter orders on or before this date', 'title': 'End Date'}, include_in_function_choices=True), KernelParameterMetadata(name='region', description='Filter by region', default_value='', type_='string', is_required=False, type_object=None, schema_data={'anyOf': [{'type': 'string'}, {'type': 'null'}], 'description': 'Filter by region', 'title': 'Region'}, include_in_function_choices=True), KernelParameterMetadata(name='limit', description='Maximum number of orders to return', default_value='', type_='integer', is_required=False, type_object=None, schema_data={'type': 'integer', 'description': 'Maximum number of orders to return', 'default': 100, 'title': 'Limit'}, include_in_function_choices=True)], is_prompt=False, is_asynchronous=True, return_parameter=KernelParameterMetadata(name='return', description='Successful Response', default_value=None, type_='array', is_required=False, type_object=None, schema_data={'type': 'array', 'items': {'properties': {'order_id': {'type': 'integer', 'title': 'Order Id'}, 'customer_id': {'type': 'integer', 'title': 'Customer Id'}, 'order_date': {'type': 'string', 'format': 'date', 'title': 'Order Date'}, 'ship_date': {'type': 'string', 'format': 'date', 'title': 'Ship Date'}, 'sales_channel': {'type': 'string', 'title': 'Sales Channel'}, 'region': {'type': 'string', 'title': 'Region'}, 'order_lines': {'items': {'properties': {'order_line_id': {'type': 'integer', 'title': 'Order Line Id'}, 'product_id': {'type': 'integer', 'title': 'Product Id'}, 'quantity': {'type': 'integer', 'title': 'Quantity'}, 'unit_price': {'type': 'number', 'title': 'Unit Price'}, 'discount': {'type': 'number', 'title': 'Discount'}, 'line_total': {'type': 'number', 'title': 'Line Total'}}, 'type': 'object', 'required': ['order_line_id', 'product_id', 'quantity', 'unit_price', 'discount', 'line_total'], 'title': 'OrderLine'}, 'type': 'array', 'title': 'Order Lines', 'default': []}}, 'type': 'object', 'required': ['order_id', 'customer_id', 'order_date', 'ship_date', 'sales_channel', 'region'], 'title': 'Order'}, 'title': 'Response List Orders Orders Orders Get'}, include_in_function_choices=True), additional_properties={'method': 'GET', 'operation': <semantic_kernel.connectors.openapi_plugin.models.rest_api_operation.RestApiOperation object at 0x000001E5F4F93FB0>, 'server-urls': ['https://api-sales-demo-vnheaxrorgj4.azurewebsites.net'], 'security': []}), invocation_duration_histogram=<opentelemetry.metrics._internal.instrument._ProxyHistogram object at 0x000001E5F4F91FA0>, streaming_duration_histogram=<opentelemetry.metrics._internal.instrument._ProxyHistogram object at 0x000001E5F4F91520>, method=<function _create_function_from_operation.<locals>.run_openapi_operation at 0x000001E5F528CEA0>, stream_method=None), 'get_status__get': KernelFunctionFromMethod(metadata=KernelFunctionMetadata(name='get_status__get', plugin_name='sales', description='Get Status', parameters=[], is_prompt=False, is_asynchronous=True, return_parameter=KernelParameterMetadata(name='return', description='Successful Response', default_value=None, type_='string', is_required=False, type_object=None, schema_data={'type': 'string', 'title': 'Response Get Status  Get'}, include_in_function_choices=True), additional_properties={'method': 'GET', 'operation': <semantic_kernel.connectors.openapi_plugin.models.rest_api_operation.RestApiOperation object at 0x000001E5F4F93620>, 'server-urls': ['https://api-sales-demo-vnheaxrorgj4.azurewebsites.net'], 'security': []}), invocation_duration_histogram=<opentelemetry.metrics._internal.instrument._ProxyHistogram object at 0x000001E5F4F92330>, streaming_duration_histogram=<opentelemetry.metrics._internal.instrument._ProxyHistogram object at 0x000001E5F4F93890>, method=<function _create_function_from_operation.<locals>.run_openapi_operation at 0x000001E5F53D4E00>, stream_method=None)})"
      ]
     },
     "execution_count": 9,
     "metadata": {},
     "output_type": "execute_result"
    }
   ],
   "source": [
    "kernel = Kernel()\n",
    "\n",
    "kernel.add_service(AzureChatCompletion(\n",
    "    service_id=\"chat\",\n",
    "    deployment_name=environ[\"AZURE_OPENAI_MODEL\"],\n",
    "    base_url=environ[\"AZURE_OPENAI_ENDPOINT\"],\n",
    "    api_key=environ[\"AZURE_OPENAI_API_KEY\"] ))\n",
    "\n",
    "kernel.add_plugin_from_openapi(\n",
    "   plugin_name=\"sales\",\n",
    "   openapi_document_path=environ['OPENAPI_URL'],\n",
    "   execution_settings=OpenAPIFunctionExecutionParameters(\n",
    "         enable_payload_namespacing=True,\n",
    "   ),\n",
    ")"
   ]
  },
  {
   "cell_type": "code",
   "execution_count": null,
   "id": "4e7915ea",
   "metadata": {},
   "outputs": [],
   "source": [
    "instructions = \"\"\"You are AutoSales Analyst, an AI agent specialized in analyzing automotive sales data.\n",
    "\n",
    "Your objectives:\n",
    "- Dynamically choose and call the appropriate tool(s) to answer user questions about sales, customers, or products.\n",
    "- Always include customer names alongside IDs in any output.\n",
    "- Always display monetary amounts in $USD (e.g., $123.45).\n",
    "- Use filters and aggregations as needed to generate insights from sales orders, products, and customers.\n",
    "- Compute totals, revenue, discounts, and other metrics from nested order data.\n",
    "- Return structured, concise results suitable for analysis or reporting.\n",
    "- Avoid hardcoding analytics; rely on the MCP tools and their parameters.\n",
    "- Clarify ambiguous queries before performing analysis.\n",
    "- Treat the tools as the source of truth; do not expose raw database internals.\n",
    "\n",
    "Behavioral guidance:\n",
    "- For customer-related questions, resolve names and IDs before analyzing orders.\n",
    "- For product-related questions, resolve categories or IDs before analyzing sales.\n",
    "\n",
    "Example user questions:\n",
    "- \"Which products generated the most revenue in the EU last quarter?\"\n",
    "- \"Who are the top 5 customers by total sales this month?\"\n",
    "- \"How much discount was given per product category in Q2?\"\n",
    "- \"List all orders for customer 42 containing product 7.\"\n",
    "\"\"\""
   ]
  },
  {
   "cell_type": "code",
   "execution_count": 11,
   "id": "7427fea8",
   "metadata": {},
   "outputs": [
    {
     "name": "stdout",
     "output_type": "stream",
     "text": [
      "Based on the sales data, the products that generated the highest revenue are:\n",
      "\n",
      "1. **Brake Pad** - Total Revenue: **$29,230.00**\n",
      "   - High sales volume and the relatively higher unit price ($50.00) contributed to this product's leading revenue.\n",
      "\n",
      "2. **Oil Filter** - Total Revenue: **$17,730.00**\n",
      "   - Large quantities sold ($15.00/unit price) ensured this product's significant revenue contribution.\n",
      "\n",
      "3. **Spark Plug** - Total Revenue: **$11,690.00**\n",
      "   - Though the unit price is low ($8.00), volume sales pushed its revenue.\n",
      "\n",
      "4. **Alternator** and **Transmission Kit**\n",
      "   - These products did not contribute significantly in revenue compared to others listed above, likely linked to sales volume rather than pricing.\n",
      "\n",
      "Would you like a more detailed breakdown by region, time period, or other segmentation?\n"
     ]
    }
   ],
   "source": [
    "agent = ChatCompletionAgent(\n",
    "    kernel=kernel, \n",
    "    name=\"SalesAgentOpenAPI\",\n",
    "    instructions=instructions\n",
    ")\n",
    "\n",
    "response = await agent.get_response(messages=\"Which products generated the most revenue?\")\n",
    "print(response)\n"
   ]
  }
 ],
 "metadata": {
  "kernelspec": {
   "display_name": ".venv",
   "language": "python",
   "name": "python3"
  },
  "language_info": {
   "codemirror_mode": {
    "name": "ipython",
    "version": 3
   },
   "file_extension": ".py",
   "mimetype": "text/x-python",
   "name": "python",
   "nbconvert_exporter": "python",
   "pygments_lexer": "ipython3",
   "version": "3.12.10"
  }
 },
 "nbformat": 4,
 "nbformat_minor": 5
}
