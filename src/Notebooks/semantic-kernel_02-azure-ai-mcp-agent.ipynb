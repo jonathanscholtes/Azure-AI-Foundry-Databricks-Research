{
 "cells": [
  {
   "cell_type": "code",
   "execution_count": null,
   "id": "92a4c472",
   "metadata": {},
   "outputs": [],
   "source": [
    "! pip install -r requirements.txt --quiet"
   ]
  },
  {
   "cell_type": "markdown",
   "id": "239cc5e9",
   "metadata": {},
   "source": [
    "# Connecting to a Remote MCP Server with Semantic Kernel\n",
    "\n",
    "This notebook demonstrates how to connect to a remote MCP Server using **Semantic Kernel's** `MCPStreamableHttpPlugin`. The **Model Context Protocol (MCP)** enables scalable and modular tool integration across distributed systems. \n",
    "\n",
    "<br/>\n",
    "\n",
    "> **Why Use Model Context Protocol (MCP)?**\n",
    ">\n",
    ">MCP allows agents to discover, invoke, and manage tools dynamically across remote servers.  \n",
    ">It promotes modularity, scalability, and separation of concerns, making it easier to maintain and extend AI systems as they grow in complexity."
   ]
  },
  {
   "cell_type": "code",
   "execution_count": 29,
   "id": "6c3f6ae9",
   "metadata": {},
   "outputs": [],
   "source": [
    "from semantic_kernel import Kernel\n",
    "from semantic_kernel.agents import ChatCompletionAgent,ChatHistoryAgentThread\n",
    "from semantic_kernel.connectors.ai.open_ai import AzureChatCompletion\n",
    "from semantic_kernel.contents.chat_history import ChatHistory  \n",
    "from dotenv import load_dotenv\n",
    "from os import environ\n",
    "import asyncio\n",
    "\n",
    "from semantic_kernel.connectors.mcp import MCPStreamableHttpPlugin\n",
    "\n",
    "load_dotenv(override=True)\n",
    "\n",
    "kernel = Kernel()\n",
    "\n",
    "kernel.add_service(AzureChatCompletion(\n",
    "    service_id=\"chat\",\n",
    "    deployment_name=environ[\"AZURE_OPENAI_MODEL\"],\n",
    "    base_url=environ[\"AZURE_OPENAI_ENDPOINT\"],\n",
    "    api_key=environ[\"AZURE_OPENAI_API_KEY\"] ))\n",
    "\n",
    "\n",
    "\n"
   ]
  },
  {
   "cell_type": "code",
   "execution_count": 30,
   "id": "03d0f449",
   "metadata": {},
   "outputs": [],
   "source": [
    "instructions = \"\"\"You are AutoSales Analyst, an AI agent specialized in analyzing automotive sales data.\n",
    "\n",
    "Your objectives:\n",
    "- Dynamically choose and call the appropriate tool(s) to answer user questions about sales, customers, or products.\n",
    "- Always include customer names alongside IDs in any output.\n",
    "- Always display monetary amounts in $USD (e.g., $123.45).\n",
    "- Use filters and aggregations as needed to generate insights from sales orders, products, and customers.\n",
    "- Compute totals, revenue, discounts, and other metrics from nested order data.\n",
    "- Return structured, concise results suitable for analysis or reporting.\n",
    "- Avoid hardcoding analytics; rely on the MCP tools and their parameters.\n",
    "- Clarify ambiguous queries before performing analysis.\n",
    "- Treat the tools as the source of truth; do not expose raw database internals.\n",
    "- Return customer_id and product_id alongside names in all outputs.\n",
    "\n",
    "Behavioral guidance:\n",
    "- For customer-related questions, resolve names and IDs before analyzing orders.\n",
    "- For product-related questions, resolve categories or IDs before analyzing sales.\n",
    "\"\"\""
   ]
  },
  {
   "cell_type": "code",
   "execution_count": 31,
   "id": "d34908b1",
   "metadata": {},
   "outputs": [],
   "source": [
    "\n",
    "sales_plugin = MCPStreamableHttpPlugin(\n",
    "    name=\"sales\",\n",
    "    url=f\"{environ['MCP_SERVER_URL']}\",\n",
    ")\n",
    "\n",
    "await sales_plugin.connect()\n",
    "\n",
    "agent = ChatCompletionAgent(\n",
    "    kernel=kernel, \n",
    "    name=\"SalesAgent\", \n",
    "    instructions=instructions,\n",
    "    plugins=[sales_plugin, ]\n",
    ")\n"
   ]
  },
  {
   "cell_type": "code",
   "execution_count": 32,
   "id": "ef0ae8e2",
   "metadata": {},
   "outputs": [],
   "source": [
    "messages = [\n",
    "    \"Which products generated the most revenue?\",\n",
    "    \"Drill down into customer details product with the highest revenue.\",\n",
    "    \"Which customer had the highest sales for this product?\",\n",
    "]\n"
   ]
  },
  {
   "cell_type": "code",
   "execution_count": 33,
   "id": "efa95a94",
   "metadata": {},
   "outputs": [
    {
     "name": "stdout",
     "output_type": "stream",
     "text": [
      "To identify the products generating the most revenue, I'll calculate the total revenue for each product by aggregating the `line_unit_price` values across all relevant sales orders. Please allow me a moment to process the data.\n",
      "Here are the products ranked by total revenue generation:\n",
      "\n",
      "1. **Brake Pad** (Product ID: 0)  \n",
      "   - Total Revenue: $12,361.50\n",
      "\n",
      "2. **Oil Filter** (Product ID: 1)  \n",
      "   - Total Revenue: $4,334.73\n",
      "\n",
      "3. **Spark Plug** (Product ID: 2)  \n",
      "   - Total Revenue: $1,983.25\n",
      "\n",
      "The results show that Brake Pads contribute the highest revenue, followed by Oil Filters and Spark Plugs. Let me know if you'd like a deeper dive into specific customers or regions.\n"
     ]
    }
   ],
   "source": [
    "\n",
    "response = await agent.get_response(messages=messages[0])\n",
    "print(response)\n"
   ]
  },
  {
   "cell_type": "code",
   "execution_count": 34,
   "id": "850773a4",
   "metadata": {},
   "outputs": [
    {
     "name": "stdout",
     "output_type": "stream",
     "text": [
      "The **Brake Pad** (Product ID: 0), the product with the highest revenue, has been purchased by multiple customers, contributing to its significant revenue generation. Below are the key customer details and their contributions to total revenue from Brake Pads:\n",
      "\n",
      "### Top Contributing Customers:\n",
      "1. **Customer:** AutoZone (Customer ID: 2)  \n",
      "   - **Industry:** Distributor  \n",
      "   - **Region:** NA  \n",
      "   - **Account Manager:** Carol Lee  \n",
      "   - **Brake Pad Revenue:** $2,936.00\n",
      "\n",
      "2. **Customer:** Bosch (Customer ID: 3)  \n",
      "   - **Industry:** OEM  \n",
      "   - **Region:** EU  \n",
      "   - **Account Manager:** David Wong  \n",
      "   - **Brake Pad Revenue:** $3,134.00\n",
      "\n",
      "3. **Customer:** NAPA (Customer ID: 4)  \n",
      "   - **Industry:** Distributor  \n",
      "   - **Region:** NA/EU  \n",
      "   - **Account Manager:** Ellen Garcia  \n",
      "   - **Brake Pad Revenue:** $3,014.50\n",
      "\n",
      "4. **Customer:** GM (Customer ID: 1)  \n",
      "   - **Industry:** OEM  \n",
      "   - **Region:** NA/EU  \n",
      "   - **Account Manager:** Bob Smith  \n",
      "   - **Brake Pad Revenue:** $2,545.50\n",
      "\n",
      "5. **Customer:** Ford (Customer ID: 0)  \n",
      "   - **Industry:** OEM  \n",
      "   - **Region:** NA/EU  \n",
      "   - **Account Manager:** Alice Johnson  \n",
      "   - **Brake Pad Revenue:** $1,731.50\n",
      "\n",
      "### Insights:\n",
      "- Bosch leads in revenue contributions, indicating strong sales in the EU region, where Bosch operates as an OEM.\n",
      "- Distributors like AutoZone and NAPA have significantly contributed, showcasing the product’s popularity in retail and aftermarket distribution channels.\n",
      "\n",
      "Let me know if detailed order insights for any customer are needed!\n"
     ]
    }
   ],
   "source": [
    "response2 = await agent.get_response(messages=messages[1], thread=response.thread)\n",
    "print(response2)\n",
    "\n"
   ]
  },
  {
   "cell_type": "code",
   "execution_count": 35,
   "id": "e0d3727c",
   "metadata": {},
   "outputs": [
    {
     "name": "stdout",
     "output_type": "stream",
     "text": [
      "The customer with the highest sales for the **Brake Pad** (Product ID: 0) is:\n",
      "\n",
      "### Customer: **Bosch**  \n",
      "- **Customer ID:** 3  \n",
      "- **Industry:** OEM  \n",
      "- **Region:** EU  \n",
      "- **Account Manager:** David Wong  \n",
      "- **Total Brake Pad Revenue:** $3,134.00  \n",
      "\n",
      "Bosch has contributed the most revenue from the sales of Brake Pads, indicating strong demand in the OEM sector and a strong presence in the EU market.\n"
     ]
    }
   ],
   "source": [
    "response3 = await agent.get_response(messages=messages[2], thread=response.thread)\n",
    "print(response3)"
   ]
  }
 ],
 "metadata": {
  "kernelspec": {
   "display_name": ".venv",
   "language": "python",
   "name": "python3"
  },
  "language_info": {
   "codemirror_mode": {
    "name": "ipython",
    "version": 3
   },
   "file_extension": ".py",
   "mimetype": "text/x-python",
   "name": "python",
   "nbconvert_exporter": "python",
   "pygments_lexer": "ipython3",
   "version": "3.12.10"
  }
 },
 "nbformat": 4,
 "nbformat_minor": 5
}
