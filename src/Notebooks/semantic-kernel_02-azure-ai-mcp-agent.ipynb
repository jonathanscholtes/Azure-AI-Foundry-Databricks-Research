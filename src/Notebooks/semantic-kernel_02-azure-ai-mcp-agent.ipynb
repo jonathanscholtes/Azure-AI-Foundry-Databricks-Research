{
 "cells": [
  {
   "cell_type": "code",
   "execution_count": null,
   "id": "92a4c472",
   "metadata": {},
   "outputs": [],
   "source": [
    "! pip install -r requirements.txt --quiet"
   ]
  },
  {
   "cell_type": "markdown",
   "id": "239cc5e9",
   "metadata": {},
   "source": [
    "# Connecting to a Remote MCP Server with Semantic Kernel\n",
    "\n",
    "This notebook demonstrates how to connect to a remote MCP Server using **Semantic Kernel's** `MCPStreamableHttpPlugin`. The **Model Context Protocol (MCP)** enables scalable and modular tool integration across distributed systems. \n",
    "\n",
    "<br/>\n",
    "\n",
    "> **Why Use Model Context Protocol (MCP)?**\n",
    ">\n",
    ">MCP allows agents to discover, invoke, and manage tools dynamically across remote servers.  \n",
    ">It promotes modularity, scalability, and separation of concerns, making it easier to maintain and extend AI systems as they grow in complexity."
   ]
  },
  {
   "cell_type": "code",
   "execution_count": 63,
   "id": "6c3f6ae9",
   "metadata": {},
   "outputs": [],
   "source": [
    "from semantic_kernel import Kernel\n",
    "from semantic_kernel.agents import ChatCompletionAgent,ChatHistoryAgentThread\n",
    "from semantic_kernel.connectors.ai.open_ai import AzureChatCompletion\n",
    "from semantic_kernel.contents.chat_history import ChatHistory  \n",
    "from dotenv import load_dotenv\n",
    "from os import environ\n",
    "import asyncio\n",
    "\n",
    "from semantic_kernel.connectors.mcp import MCPStreamableHttpPlugin\n",
    "\n",
    "load_dotenv(override=True)\n",
    "\n",
    "kernel = Kernel()\n",
    "\n",
    "kernel.add_service(AzureChatCompletion(\n",
    "    service_id=\"chat\",\n",
    "    deployment_name=environ[\"AZURE_OPENAI_MODEL\"],\n",
    "    base_url=environ[\"AZURE_OPENAI_ENDPOINT\"],\n",
    "    api_key=environ[\"AZURE_OPENAI_API_KEY\"] ))\n",
    "\n",
    "\n",
    "\n"
   ]
  },
  {
   "cell_type": "code",
   "execution_count": 64,
   "id": "03d0f449",
   "metadata": {},
   "outputs": [],
   "source": [
    "instructions = \"\"\"You are AutoSales Analyst, an AI agent specialized in analyzing automotive sales data.\n",
    "\n",
    "Your objectives:\n",
    "- Dynamically choose and call the appropriate tool(s) to answer user questions about sales, customers, or products.\n",
    "- Always include customer names alongside IDs in any output.\n",
    "- Always display monetary amounts in $USD (e.g., $123.45).\n",
    "- Use filters and aggregations as needed to generate insights from sales orders, products, and customers.\n",
    "- Compute totals, revenue, discounts, and other metrics from nested order data.\n",
    "- Return structured, concise results suitable for analysis or reporting.\n",
    "- Avoid hardcoding analytics; rely on the tools and their parameters.\n",
    "- Clarify ambiguous queries before performing analysis.\n",
    "- Treat the tools as the source of truth; do not expose raw database internals.\n",
    "- Return customer_id and product_id alongside names in all outputs.\n",
    "\n",
    "Behavioral guidance:\n",
    "- For customer-related questions, resolve names and IDs before analyzing orders.\n",
    "- For product-related questions, resolve categories or IDs before analyzing sales.\n",
    "\"\"\""
   ]
  },
  {
   "cell_type": "code",
   "execution_count": 65,
   "id": "d34908b1",
   "metadata": {},
   "outputs": [],
   "source": [
    "\n",
    "sales_plugin = MCPStreamableHttpPlugin(\n",
    "    name=\"sales\",\n",
    "    url=f\"{environ['MCP_SERVER_URL']}\",\n",
    ")\n",
    "\n",
    "await sales_plugin.connect()\n",
    "\n",
    "agent = ChatCompletionAgent(\n",
    "    kernel=kernel, \n",
    "    name=\"SalesAgent\", \n",
    "    instructions=instructions,\n",
    "    plugins=[sales_plugin, ]\n",
    ")\n"
   ]
  },
  {
   "cell_type": "code",
   "execution_count": 70,
   "id": "ef0ae8e2",
   "metadata": {},
   "outputs": [],
   "source": [
    "messages = [\n",
    "    \"Which is the revenue for Brake_Pads?\",\n",
    "    \"Drill down into customer details product with the highest revenue.\",\n",
    "    \"Which customer had the highest sales for this product?\",\n",
    "]\n"
   ]
  },
  {
   "cell_type": "code",
   "execution_count": 71,
   "id": "efa95a94",
   "metadata": {},
   "outputs": [
    {
     "name": "stdout",
     "output_type": "stream",
     "text": [
      "The revenue generated from \"Brake Pads\" (resolved as \"Brake Pad\") is the sum of all order line prices.\n",
      "\n",
      "Total Revenue = $19,837.0 USD.\n"
     ]
    }
   ],
   "source": [
    "\n",
    "response = await agent.get_response(messages=messages[0])\n",
    "print(response)\n"
   ]
  },
  {
   "cell_type": "code",
   "execution_count": 72,
   "id": "850773a4",
   "metadata": {},
   "outputs": [
    {
     "name": "stdout",
     "output_type": "stream",
     "text": [
      "The customer associated with the highest revenue product (\"Brake Pad\") is:\n",
      "\n",
      "- **Customer Name**: Bosch  \n",
      "- **Customer ID**: 3  \n",
      "- **Region**: EU  \n",
      "- **Industry**: OEM  \n",
      "- **Account Manager**: David Wong\n"
     ]
    }
   ],
   "source": [
    "response2 = await agent.get_response(messages=messages[1], thread=response.thread)\n",
    "print(response2)\n",
    "\n"
   ]
  },
  {
   "cell_type": "code",
   "execution_count": 73,
   "id": "e0d3727c",
   "metadata": {},
   "outputs": [
    {
     "name": "stdout",
     "output_type": "stream",
     "text": [
      "The customer with the highest sales volume for the product \"Brake Pad\" is:\n",
      "\n",
      "- **Customer Name**: GM  \n",
      "- **Customer ID**: 1  \n",
      "- **Region**: NA  \n",
      "- **Industry**: OEM  \n",
      "- **Account Manager**: Bob Smith\n"
     ]
    }
   ],
   "source": [
    "response3 = await agent.get_response(messages=messages[2], thread=response.thread)\n",
    "print(response3)"
   ]
  }
 ],
 "metadata": {
  "kernelspec": {
   "display_name": ".venv",
   "language": "python",
   "name": "python3"
  },
  "language_info": {
   "codemirror_mode": {
    "name": "ipython",
    "version": 3
   },
   "file_extension": ".py",
   "mimetype": "text/x-python",
   "name": "python",
   "nbconvert_exporter": "python",
   "pygments_lexer": "ipython3",
   "version": "3.12.10"
  }
 },
 "nbformat": 4,
 "nbformat_minor": 5
}
