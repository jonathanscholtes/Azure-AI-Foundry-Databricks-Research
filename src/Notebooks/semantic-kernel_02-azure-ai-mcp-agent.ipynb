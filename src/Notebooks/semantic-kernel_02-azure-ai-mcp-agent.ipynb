{
 "cells": [
  {
   "cell_type": "code",
   "execution_count": 2,
   "id": "92a4c472",
   "metadata": {},
   "outputs": [],
   "source": [
    "! pip install -r requirements.txt --quiet"
   ]
  },
  {
   "cell_type": "markdown",
   "id": "99d9c0f3",
   "metadata": {},
   "source": [
    "# Connecting to a Remote MCP Server with Semantic Kernel\n",
    "\n",
    "This notebook demonstrates how to connect to a remote MCP Server using **Semantic Kernel's** `MCPSsePlugin`. The **Model Context Protocol (MCP)** enables scalable and modular tool integration across distributed systems. \n",
    "\n",
    "<br/>\n",
    "\n",
    "> **Why Use Model Context Protocol (MCP)?**\n",
    ">\n",
    ">MCP allows agents to discover, invoke, and manage tools dynamically across remote servers.  \n",
    ">It promotes modularity, scalability, and separation of concerns, making it easier to maintain and extend AI systems as they grow in complexity."
   ]
  },
  {
   "cell_type": "code",
   "execution_count": 7,
   "id": "6c3f6ae9",
   "metadata": {},
   "outputs": [],
   "source": [
    "from semantic_kernel import Kernel\n",
    "from semantic_kernel.agents import ChatCompletionAgent\n",
    "from semantic_kernel.connectors.ai.open_ai import AzureChatCompletion\n",
    "from dotenv import load_dotenv\n",
    "from os import environ\n",
    "import asyncio\n",
    "\n",
    "from semantic_kernel.connectors.mcp import MCPStreamableHttpPlugin\n",
    "\n",
    "load_dotenv(override=True)\n",
    "\n",
    "kernel = Kernel()\n",
    "\n",
    "kernel.add_service(AzureChatCompletion(\n",
    "    service_id=\"chat\",\n",
    "    deployment_name=environ[\"AZURE_OPENAI_MODEL\"],\n",
    "    base_url=environ[\"AZURE_OPENAI_ENDPOINT\"],\n",
    "    api_key=environ[\"AZURE_OPENAI_API_KEY\"] ))\n",
    "\n"
   ]
  },
  {
   "cell_type": "markdown",
   "id": "feaf10c3",
   "metadata": {},
   "source": [
    "## Connecting to a remote MCP server via sse\n",
    "\n",
    "- Server-Sent Events (SSE) is a mechanism for establishing a continuous, one-way data stream from the server to a client, such as a web application. This allows the server to push updates or messages to the client without the client needing to constantly poll for new information"
   ]
  },
  {
   "cell_type": "code",
   "execution_count": 8,
   "id": "d34908b1",
   "metadata": {},
   "outputs": [
    {
     "name": "stdout",
     "output_type": "stream",
     "text": [
      "The products that generated the most revenue are:\n",
      "\n",
      "1. **Brake Pad** (Category: Braking) - Total revenue: $275,750.00\n",
      "2. **Oil Filter** (Category: Engine) - Total revenue: $83,865.00\n",
      "3. **Spark Plug** (Category: Electrical) - Total revenue: $44,112.00\n"
     ]
    }
   ],
   "source": [
    "async with MCPStreamableHttpPlugin(\n",
    "    name=\"sales\",\n",
    "    url=f\"{environ['MCP_SERVER_URL']}\",\n",
    ") as sales_plugin:\n",
    "\n",
    "    agent = ChatCompletionAgent(\n",
    "        kernel=kernel, \n",
    "        name=\"SalesAgent\", \n",
    "        plugins=[sales_plugin, ]\n",
    "    )\n",
    "    response = await agent.get_response(messages=\"Which products generated the most revenue?\")\n",
    "    print(response)"
   ]
  },
  {
   "cell_type": "code",
   "execution_count": 9,
   "id": "1ef9900d",
   "metadata": {},
   "outputs": [
    {
     "ename": "NameError",
     "evalue": "name 'MCPSsePlugin' is not defined",
     "output_type": "error",
     "traceback": [
      "\u001b[31m---------------------------------------------------------------------------\u001b[39m",
      "\u001b[31mNameError\u001b[39m                                 Traceback (most recent call last)",
      "\u001b[36mCell\u001b[39m\u001b[36m \u001b[39m\u001b[32mIn[9]\u001b[39m\u001b[32m, line 15\u001b[39m\n\u001b[32m     12\u001b[39m plugins = []\n\u001b[32m     13\u001b[39m \u001b[38;5;28;01mfor\u001b[39;00m plugin_name \u001b[38;5;129;01min\u001b[39;00m plugin_names:\n\u001b[32m     14\u001b[39m     plugin = \u001b[38;5;28;01mawait\u001b[39;00m stack.enter_async_context(\n\u001b[32m---> \u001b[39m\u001b[32m15\u001b[39m         \u001b[43mMCPSsePlugin\u001b[49m(\n\u001b[32m     16\u001b[39m             name=plugin_name,\n\u001b[32m     17\u001b[39m             url=\u001b[33mf\u001b[39m\u001b[33m\"\u001b[39m\u001b[38;5;132;01m{\u001b[39;00menviron[\u001b[33m'\u001b[39m\u001b[33mMCP_SERVER_URL\u001b[39m\u001b[33m'\u001b[39m]\u001b[38;5;132;01m}\u001b[39;00m\u001b[33m/\u001b[39m\u001b[38;5;132;01m{\u001b[39;00mplugin_name\u001b[38;5;132;01m}\u001b[39;00m\u001b[33m/sse\u001b[39m\u001b[33m\"\u001b[39m\n\u001b[32m     18\u001b[39m         )\n\u001b[32m     19\u001b[39m     )\n\u001b[32m     20\u001b[39m     plugins.append(plugin)\n\u001b[32m     22\u001b[39m agent = ChatCompletionAgent(\n\u001b[32m     23\u001b[39m     kernel=kernel,\n\u001b[32m     24\u001b[39m     name=\u001b[33m\"\u001b[39m\u001b[33mMultiPluginAgent\u001b[39m\u001b[33m\"\u001b[39m,\n\u001b[32m     25\u001b[39m     plugins=plugins\n\u001b[32m     26\u001b[39m )\n",
      "\u001b[31mNameError\u001b[39m: name 'MCPSsePlugin' is not defined"
     ]
    }
   ],
   "source": [
    "from contextlib import AsyncExitStack\n",
    "\n",
    "plugin_names = [\"weather\", \"search\", \"energy\"]\n",
    "\n",
    "messages = [\n",
    "    \"What data centers are in 'critical'?\",\n",
    "    \"Describe the resource intensity of data center facility infrastructure\"\n",
    "]\n",
    "\n",
    "\n",
    "async with AsyncExitStack() as stack:\n",
    "    plugins = []\n",
    "    for plugin_name in plugin_names:\n",
    "        plugin = await stack.enter_async_context(\n",
    "            MCPSsePlugin(\n",
    "                name=plugin_name,\n",
    "                url=f\"{environ['MCP_SERVER_URL']}/{plugin_name}/sse\"\n",
    "            )\n",
    "        )\n",
    "        plugins.append(plugin)\n",
    "\n",
    "    agent = ChatCompletionAgent(\n",
    "        kernel=kernel,\n",
    "        name=\"MultiPluginAgent\",\n",
    "        plugins=plugins\n",
    "    )\n",
    "\n",
    "\n",
    "    for msg in messages:\n",
    "        print(\"------------------------------------------------\\n\")\n",
    "        print(msg)\n",
    "        response = await agent.get_response(messages=msg)\n",
    "        print(response)\n",
    "        print(\"\\n------------------------------------------------\\n\")\n"
   ]
  }
 ],
 "metadata": {
  "kernelspec": {
   "display_name": ".venv",
   "language": "python",
   "name": "python3"
  },
  "language_info": {
   "codemirror_mode": {
    "name": "ipython",
    "version": 3
   },
   "file_extension": ".py",
   "mimetype": "text/x-python",
   "name": "python",
   "nbconvert_exporter": "python",
   "pygments_lexer": "ipython3",
   "version": "3.12.10"
  }
 },
 "nbformat": 4,
 "nbformat_minor": 5
}
