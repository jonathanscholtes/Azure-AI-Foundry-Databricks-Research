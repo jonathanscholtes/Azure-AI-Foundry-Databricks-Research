{
 "cells": [
  {
   "cell_type": "code",
   "execution_count": null,
   "id": "48b36d82",
   "metadata": {},
   "outputs": [],
   "source": [
    "! pip install -r requirements.txt --quiet"
   ]
  },
  {
   "cell_type": "markdown",
   "id": "ee463e4d",
   "metadata": {},
   "source": [
    "# Semantic Kernel Sequential Orchestration\n",
    "\n",
    "In sequential orchestration, agents are organized in a pipeline. Each agent processes the task in turn, passing its output to the next agent in the sequence. \n",
    "\n",
    "🔗 [Sequential Orchestration](https://learn.microsoft.com/en-us/semantic-kernel/frameworks/agent/agent-orchestration/sequential?pivots=programming-language-python)"
   ]
  },
  {
   "cell_type": "code",
   "execution_count": 1,
   "id": "c6b1649f",
   "metadata": {},
   "outputs": [],
   "source": [
    "from semantic_kernel.agents import SequentialOrchestration\n",
    "from semantic_kernel import Kernel\n",
    "from semantic_kernel.agents import ChatCompletionAgent,ChatHistoryAgentThread\n",
    "from semantic_kernel.connectors.ai.open_ai import AzureChatCompletion\n",
    "from dotenv import load_dotenv\n",
    "from os import environ\n",
    "import asyncio\n",
    "from semantic_kernel.connectors.mcp import MCPStreamableHttpPlugin\n",
    "\n",
    "load_dotenv(override=True)\n",
    "\n",
    "kernel = Kernel()\n"
   ]
  },
  {
   "cell_type": "code",
   "execution_count": 2,
   "id": "decc97bb",
   "metadata": {},
   "outputs": [],
   "source": [
    "chatCompletion = AzureChatCompletion(\n",
    "    service_id=\"chat\",\n",
    "    deployment_name=environ[\"AZURE_OPENAI_MODEL\"],\n",
    "    base_url=environ[\"AZURE_OPENAI_ENDPOINT\"],\n",
    "    api_key=environ[\"AZURE_OPENAI_API_KEY\"] )\n",
    "\n",
    "\n",
    "reasoningCompletion = AzureChatCompletion(\n",
    "    service_id=\"reasoning\",\n",
    "    deployment_name='o3-mini',\n",
    "    base_url=environ[\"AZURE_OPENAI_ENDPOINT\"],\n",
    "    api_key=environ[\"AZURE_OPENAI_API_KEY\"] )\n",
    "\n"
   ]
  },
  {
   "cell_type": "code",
   "execution_count": 3,
   "id": "163eb4d5",
   "metadata": {},
   "outputs": [],
   "source": [
    "sales_plugin = MCPStreamableHttpPlugin(\n",
    "    name=\"sales\",\n",
    "    url=f\"{environ['MCP_SERVER_URL']}\",\n",
    ")\n",
    "\n",
    "await sales_plugin.connect()\n"
   ]
  },
  {
   "cell_type": "code",
   "execution_count": 10,
   "id": "f386dbc6",
   "metadata": {},
   "outputs": [],
   "source": [
    "\n",
    "# Sales Data Agent\n",
    "sales_data_agent = ChatCompletionAgent(\n",
    "    name=\"SalesDataAgent\",\n",
    "    instructions=(\n",
    "        \"\"\"You are a Sales Data Agent. Your job is to:\n",
    "        - Dynamically choose and call the appropriate tool(s) to answer user questions about sales, customers, or products.\n",
    "        - Always include customer names alongside IDs in any output.\n",
    "        - Always display monetary amounts in $USD (e.g., $123.45).\n",
    "        - Use filters and aggregations as needed to generate insights from sales orders, products, and customers.\n",
    "        - Compute totals, revenue, discounts, and other metrics from nested order data.\n",
    "        - Return **complete, detailed outputs** without summarization, so that all data is available for downstream analysis.\n",
    "        - Preserve all intermediate results and raw values in your response.\n",
    "        - Avoid hardcoding analytics; rely on the MCP tools and their parameters.\n",
    "        - Clarify ambiguous queries before performing analysis.\n",
    "        - Do not ask the user follow-up questions; only return the requested records.\n",
    "        - Treat the tools as the source of truth; do not expose raw database internals.\n",
    "        - return output in table format when possible for consumption by the next agent.\n",
    "        \"\"\"\n",
    "    ),\n",
    "    plugins=[sales_plugin],\n",
    "    service=chatCompletion,\n",
    ")\n",
    "\n",
    "# Data Analysis Agent\n",
    "data_analysis_agent = ChatCompletionAgent(\n",
    "    name=\"DataAnalysisAgent\",\n",
    "    instructions=(\n",
    "        \"\"\"You are a Data Analysis Agent. Given the sales data, your job is to:\n",
    "        - Analyze and interpret the sales data provided by the SalesDataAgent.\n",
    "        - Identify trends, patterns, and insights from the sales data.\n",
    "        - Provide actionable recommendations based on the analysis.\n",
    "        - Summarize key findings in a clear and concise manner.\n",
    "        - Ensure that all analyses are relevant to the user's query and objectives.\n",
    "        - Provide Key Findings, Insights, Recommendations and a Summary in your final output.\n",
    "        \"\"\"\n",
    "    ),\n",
    "      service=reasoningCompletion,\n",
    ")"
   ]
  },
  {
   "cell_type": "markdown",
   "id": "a4b42b66",
   "metadata": {},
   "source": [
    "### Optional: Observe Agent Responses"
   ]
  },
  {
   "cell_type": "code",
   "execution_count": 11,
   "id": "d92e8796",
   "metadata": {},
   "outputs": [],
   "source": [
    "from semantic_kernel.contents import ChatMessageContent\n",
    "\n",
    "def agent_response_callback(message: ChatMessageContent) -> None:\n",
    "    print(f\"# {message.name}\\n{message.content}\")"
   ]
  },
  {
   "cell_type": "markdown",
   "id": "ce848853",
   "metadata": {},
   "source": [
    "### Set Up the Sequential Orchestration"
   ]
  },
  {
   "cell_type": "code",
   "execution_count": 12,
   "id": "78ad4d04",
   "metadata": {},
   "outputs": [],
   "source": [
    "agents = [sales_data_agent, data_analysis_agent]\n",
    "sequential_orchestration = SequentialOrchestration(\n",
    "    members=agents,\n",
    "    agent_response_callback=agent_response_callback,\n",
    ")"
   ]
  },
  {
   "cell_type": "markdown",
   "id": "94828b93",
   "metadata": {},
   "source": [
    "### Start the Runtime"
   ]
  },
  {
   "cell_type": "code",
   "execution_count": 13,
   "id": "53f0ca79",
   "metadata": {},
   "outputs": [
    {
     "name": "stdout",
     "output_type": "stream",
     "text": [
      "# SalesDataAgent\n",
      "\n",
      "# SalesDataAgent\n",
      "\n",
      "# SalesDataAgent\n",
      "Based on the sales data:\n",
      "\n",
      "### Total Sales per Customer\n",
      "\n",
      "| Customer ID | Customer Name | Total Sales ($USD) |\n",
      "|-------------|---------------|--------------------|\n",
      "| 1           | GM            | 4,104.65          |\n",
      "| 4           | NAPA          | 3,952.93          |\n",
      "| 3           | Bosch         | 2,939.52          |\n",
      "| 2           | AutoZone      | 3,168.38          |\n",
      "| 0           | Ford          | 1,096.42          |\n",
      "\n",
      "### Customer with the Highest Sales: GM (Customer ID: 1)\n",
      "- **Total Sales ($USD):** 4,104.65\n",
      "\n",
      "---\n",
      "\n",
      "### Top 3 Products Purchased by GM\n",
      "\n",
      "| Product Name | Quantity Purchased | Total Revenue ($USD) |\n",
      "|--------------|--------------------|----------------------|\n",
      "| Brake Pad    | 143                | 7,143.00            |\n",
      "| Spark Plug   | 94                 | 767.04              |\n",
      "| Oil Filter   | 65                 | 975.00              |\n",
      "\n",
      "Let me know if you'd like further analysis or details!\n",
      "# DataAnalysisAgent\n",
      "### Key Findings:\n",
      "1. **Top Performing Customer:**\n",
      "   - GM is the highest spender, with total sales of **$4,104.65**, followed by NAPA (**$3,952.93**) and AutoZone (**$3,168.38**).\n",
      "   - Ford has the lowest sales contribution at **$1,096.42**.\n",
      "\n",
      "2. **Product Insights:**\n",
      "   - Brake Pads are GM's most purchased product (143 units, contributing **$7,143.00** in revenue).\n",
      "   - Spark Plugs and Oil Filters followed, generating **$767.04** and **$975.00**, respectively.\n",
      "\n",
      "3. **Revenue Concentration:**\n",
      "   - GM and NAPA collectively contribute **40%** of the overall revenue, highlighting a reliance on a few high-spending customers.\n",
      "\n",
      "4. **Low Representation:**\n",
      "   - Ford represents significant underperformance, with a total sales contribution far below its counterparts.\n",
      "\n",
      "---\n",
      "\n",
      "### Insights:\n",
      "1. GM is likely purchasing a high volume of essential consumables (brake pads, spark plugs, oil filters), suggesting these items drive repeat purchases.\n",
      "2. NAPA and AutoZone also show strong contributions, indicating they may be sizeable business-to-business customers or fleet buyers.\n",
      "3. Ford appears to be under-engaged. Optimizing customer outreach towards Ford might reveal underlying issues or opportunities for growth.\n",
      "\n",
      "---\n",
      "\n",
      "### Recommendations:\n",
      "1. **Focus on Top Customers:**\n",
      "   - Offer customized promotions or loyalty programs targeting GM, NAPA, and AutoZone. This would strengthen relationships and encourage repeat business.\n",
      "\n",
      "2. **Expand Product Offerings:**\n",
      "   - Consider bundling Brake Pads, Spark Plugs, and Oil Filters, targeting heavy vehicle maintenance for customers like GM.\n",
      "\n",
      "3. **Engage Ford to Increase Sales:**\n",
      "   - Ford’s performance gap suggests room for improvement. Investigate whether pricing, product availability, or marketing strategies are contributing to lower purchase volumes.\n",
      "\n",
      "4. **Leverage Purchase Patterns:**\n",
      "   - For GM and similar customers, anticipate product restocking needs based on purchase behavior and set up automatic reordering systems for convenience.\n",
      "\n",
      "5. **Increase Revenue Through Add-ons:**\n",
      "   - Upsell complementary products (e.g., tools and accessories) for Brake Pads, Spark Plugs, or Oil Filters that align with GM's purchase history.\n",
      "\n",
      "---\n",
      "\n",
      "### Summary:\n",
      "Current sales data reveal GM as the top-performing customer, driven by high-volume purchases of core maintenance products like Brake Pads. NAPA and AutoZone are similarly crucial contributors, but Ford reveals untapped sales potential. Strategic measures to strengthen customer relationships, optimize engagement with underperforming customers, and capitalize on observed purchase patterns can help maximize revenue and ensure sustainable growth.\n"
     ]
    }
   ],
   "source": [
    "from semantic_kernel.agents.runtime import InProcessRuntime\n",
    "\n",
    "runtime = InProcessRuntime()\n",
    "runtime.start()"
   ]
  },
  {
   "cell_type": "code",
   "execution_count": 14,
   "id": "0a58e489",
   "metadata": {},
   "outputs": [],
   "source": [
    "orchestration_result = await sequential_orchestration.invoke(\n",
    "    task=\"Which customer has the highest total sales, and what are the top 3 products they purchased?\",\n",
    "    runtime=runtime,\n",
    ")"
   ]
  },
  {
   "cell_type": "code",
   "execution_count": 15,
   "id": "cf62a3fa",
   "metadata": {},
   "outputs": [
    {
     "name": "stdout",
     "output_type": "stream",
     "text": [
      "***** Final Result *****\n",
      "### Key Findings:\n",
      "1. **Top Performing Customer:**\n",
      "   - GM is the highest spender, with total sales of **$4,104.65**, followed by NAPA (**$3,952.93**) and AutoZone (**$3,168.38**).\n",
      "   - Ford has the lowest sales contribution at **$1,096.42**.\n",
      "\n",
      "2. **Product Insights:**\n",
      "   - Brake Pads are GM's most purchased product (143 units, contributing **$7,143.00** in revenue).\n",
      "   - Spark Plugs and Oil Filters followed, generating **$767.04** and **$975.00**, respectively.\n",
      "\n",
      "3. **Revenue Concentration:**\n",
      "   - GM and NAPA collectively contribute **40%** of the overall revenue, highlighting a reliance on a few high-spending customers.\n",
      "\n",
      "4. **Low Representation:**\n",
      "   - Ford represents significant underperformance, with a total sales contribution far below its counterparts.\n",
      "\n",
      "---\n",
      "\n",
      "### Insights:\n",
      "1. GM is likely purchasing a high volume of essential consumables (brake pads, spark plugs, oil filters), suggesting these items drive repeat purchases.\n",
      "2. NAPA and AutoZone also show strong contributions, indicating they may be sizeable business-to-business customers or fleet buyers.\n",
      "3. Ford appears to be under-engaged. Optimizing customer outreach towards Ford might reveal underlying issues or opportunities for growth.\n",
      "\n",
      "---\n",
      "\n",
      "### Recommendations:\n",
      "1. **Focus on Top Customers:**\n",
      "   - Offer customized promotions or loyalty programs targeting GM, NAPA, and AutoZone. This would strengthen relationships and encourage repeat business.\n",
      "\n",
      "2. **Expand Product Offerings:**\n",
      "   - Consider bundling Brake Pads, Spark Plugs, and Oil Filters, targeting heavy vehicle maintenance for customers like GM.\n",
      "\n",
      "3. **Engage Ford to Increase Sales:**\n",
      "   - Ford’s performance gap suggests room for improvement. Investigate whether pricing, product availability, or marketing strategies are contributing to lower purchase volumes.\n",
      "\n",
      "4. **Leverage Purchase Patterns:**\n",
      "   - For GM and similar customers, anticipate product restocking needs based on purchase behavior and set up automatic reordering systems for convenience.\n",
      "\n",
      "5. **Increase Revenue Through Add-ons:**\n",
      "   - Upsell complementary products (e.g., tools and accessories) for Brake Pads, Spark Plugs, or Oil Filters that align with GM's purchase history.\n",
      "\n",
      "---\n",
      "\n",
      "### Summary:\n",
      "Current sales data reveal GM as the top-performing customer, driven by high-volume purchases of core maintenance products like Brake Pads. NAPA and AutoZone are similarly crucial contributors, but Ford reveals untapped sales potential. Strategic measures to strengthen customer relationships, optimize engagement with underperforming customers, and capitalize on observed purchase patterns can help maximize revenue and ensure sustainable growth.\n"
     ]
    }
   ],
   "source": [
    "value = await orchestration_result.get(timeout=20)\n",
    "print(f\"***** Final Result *****\\n{value}\")"
   ]
  },
  {
   "cell_type": "code",
   "execution_count": 16,
   "id": "7d27cf40",
   "metadata": {},
   "outputs": [],
   "source": [
    "await runtime.stop_when_idle()"
   ]
  }
 ],
 "metadata": {
  "kernelspec": {
   "display_name": ".venv",
   "language": "python",
   "name": "python3"
  },
  "language_info": {
   "codemirror_mode": {
    "name": "ipython",
    "version": 3
   },
   "file_extension": ".py",
   "mimetype": "text/x-python",
   "name": "python",
   "nbconvert_exporter": "python",
   "pygments_lexer": "ipython3",
   "version": "3.12.10"
  }
 },
 "nbformat": 4,
 "nbformat_minor": 5
}
