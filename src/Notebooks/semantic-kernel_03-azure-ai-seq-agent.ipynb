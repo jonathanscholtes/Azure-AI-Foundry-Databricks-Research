{
 "cells": [
  {
   "cell_type": "code",
   "execution_count": null,
   "id": "48b36d82",
   "metadata": {},
   "outputs": [],
   "source": [
    "! pip install -r requirements.txt --quiet"
   ]
  },
  {
   "cell_type": "markdown",
   "id": "ee463e4d",
   "metadata": {},
   "source": [
    "# Semantic Kernel Sequential Orchestration\n",
    "\n",
    "In sequential orchestration, agents are organized in a pipeline. Each agent processes the task in turn, passing its output to the next agent in the sequence. \n",
    "\n",
    "🔗 [Sequential Orchestration](https://learn.microsoft.com/en-us/semantic-kernel/frameworks/agent/agent-orchestration/sequential?pivots=programming-language-python)"
   ]
  },
  {
   "cell_type": "code",
   "execution_count": 17,
   "id": "c6b1649f",
   "metadata": {},
   "outputs": [],
   "source": [
    "from semantic_kernel.agents import SequentialOrchestration\n",
    "from semantic_kernel import Kernel\n",
    "from semantic_kernel.agents import ChatCompletionAgent,ChatHistoryAgentThread\n",
    "from semantic_kernel.connectors.ai.open_ai import AzureChatCompletion\n",
    "from dotenv import load_dotenv\n",
    "from os import environ\n",
    "import asyncio\n",
    "from semantic_kernel.connectors.mcp import MCPStreamableHttpPlugin\n",
    "\n",
    "load_dotenv(override=True)\n",
    "\n",
    "kernel = Kernel()\n"
   ]
  },
  {
   "cell_type": "code",
   "execution_count": 18,
   "id": "decc97bb",
   "metadata": {},
   "outputs": [],
   "source": [
    "chatCompletion = AzureChatCompletion(\n",
    "    service_id=\"chat\",\n",
    "    deployment_name=environ[\"AZURE_OPENAI_MODEL\"],\n",
    "    base_url=environ[\"AZURE_OPENAI_ENDPOINT\"],\n",
    "    api_key=environ[\"AZURE_OPENAI_API_KEY\"] )\n",
    "\n",
    "\n",
    "reasoningCompletion = AzureChatCompletion(\n",
    "    service_id=\"reasoning\",\n",
    "    deployment_name='o3-mini',\n",
    "    base_url=environ[\"AZURE_OPENAI_ENDPOINT\"],\n",
    "    api_key=environ[\"AZURE_OPENAI_API_KEY\"] )\n",
    "\n"
   ]
  },
  {
   "cell_type": "code",
   "execution_count": 19,
   "id": "163eb4d5",
   "metadata": {},
   "outputs": [],
   "source": [
    "sales_plugin = MCPStreamableHttpPlugin(\n",
    "    name=\"sales\",\n",
    "    url=f\"{environ['MCP_SERVER_URL']}\",\n",
    ")\n",
    "\n",
    "await sales_plugin.connect()\n"
   ]
  },
  {
   "cell_type": "code",
   "execution_count": 20,
   "id": "f386dbc6",
   "metadata": {},
   "outputs": [],
   "source": [
    "\n",
    "# Sales Data Agent\n",
    "sales_data_agent = ChatCompletionAgent(\n",
    "    name=\"SalesDataAgent\",\n",
    "    instructions=(\n",
    "        \"\"\"You are a Sales Data Agent. Your job is to:\n",
    "        - Dynamically choose and call the appropriate tool(s) to answer user questions about sales, customers, or products.\n",
    "        - Always include customer names alongside IDs in any output.\n",
    "        - Always display monetary amounts in $USD (e.g., $123.45).\n",
    "        - Use filters and aggregations as needed to generate insights from sales orders, products, and customers.\n",
    "        - Compute totals, revenue, discounts, and other metrics from nested order data.\n",
    "        - Return **complete, detailed outputs** without summarization, so that all data is available for downstream analysis.\n",
    "        - Preserve all intermediate results and raw values in your response.\n",
    "        - Avoid hardcoding analytics; rely on the MCP tools and their parameters.\n",
    "        - Clarify ambiguous queries before performing analysis.\n",
    "        - Do not ask the user follow-up questions; only return the requested records.\n",
    "        - Treat the tools as the source of truth; do not expose raw database internals.\n",
    "        - return output in table format when possible for consumption by the next agent.\n",
    "        \"\"\"\n",
    "    ),\n",
    "    plugins=[sales_plugin],\n",
    "    service=chatCompletion,\n",
    ")\n",
    "\n",
    "# Data Analysis Agent\n",
    "data_analysis_agent = ChatCompletionAgent(\n",
    "    name=\"DataAnalysisAgent\",\n",
    "    instructions=(\n",
    "        \"\"\"You are a Data Analysis Agent. Given the sales data, your job is to:\n",
    "        - Analyze and interpret the sales data provided by the SalesDataAgent.\n",
    "        - Identify trends, patterns, and insights from the sales data.\n",
    "        - Provide actionable recommendations based on the analysis.\n",
    "        - Summarize key findings in a clear and concise manner.\n",
    "        - Ensure that all analyses are relevant to the user's query and objectives.\n",
    "        - Provide Key Findings, Insights, Recommendations and a Summary in your final output.\n",
    "        \"\"\"\n",
    "    ),\n",
    "      service=reasoningCompletion,\n",
    ")"
   ]
  },
  {
   "cell_type": "markdown",
   "id": "a4b42b66",
   "metadata": {},
   "source": [
    "### Optional: Observe Agent Responses"
   ]
  },
  {
   "cell_type": "code",
   "execution_count": 21,
   "id": "d92e8796",
   "metadata": {},
   "outputs": [],
   "source": [
    "from semantic_kernel.contents import ChatMessageContent\n",
    "\n",
    "def agent_response_callback(message: ChatMessageContent) -> None:\n",
    "    print(f\"# {message.name}\\n{message.content}\")"
   ]
  },
  {
   "cell_type": "markdown",
   "id": "ce848853",
   "metadata": {},
   "source": [
    "### Set Up the Sequential Orchestration"
   ]
  },
  {
   "cell_type": "code",
   "execution_count": 22,
   "id": "78ad4d04",
   "metadata": {},
   "outputs": [],
   "source": [
    "agents = [sales_data_agent, data_analysis_agent]\n",
    "sequential_orchestration = SequentialOrchestration(\n",
    "    members=agents,\n",
    "    agent_response_callback=agent_response_callback,\n",
    ")"
   ]
  },
  {
   "cell_type": "markdown",
   "id": "94828b93",
   "metadata": {},
   "source": [
    "### Start the Runtime"
   ]
  },
  {
   "cell_type": "code",
   "execution_count": 23,
   "id": "53f0ca79",
   "metadata": {},
   "outputs": [
    {
     "name": "stdout",
     "output_type": "stream",
     "text": [
      "# SalesDataAgent\n",
      "\n",
      "# SalesDataAgent\n",
      "\n",
      "# SalesDataAgent\n",
      "The customer with the highest total sales is **GM** (Customer ID: 1). Their total sales amount to $4,060.79.\n",
      "\n",
      "### Top 3 products purchased by GM:\n",
      "| **Product Name** | **Total Units Sold** | **Total Revenue ($USD)** |\n",
      "|-------------------|-----------------------|--------------------------|\n",
      "| Brake Pad        | 73                  | $3,213.5                |\n",
      "| Oil Filter       | 42                  | $507.75                 |\n",
      "| Spark Plug       | 61                  | $342.88                 |\n"
     ]
    },
    {
     "name": "stderr",
     "output_type": "stream",
     "text": [
      "Task was destroyed but it is pending!\n",
      "task: <Task pending name='Task-45' coro=<RunContext._run() running at c:\\Users\\joscholt\\Documents\\GitHub\\Azure-AI-Foundry-Databricks-Research\\.venv\\Lib\\site-packages\\semantic_kernel\\agents\\runtime\\in_process\\in_process_runtime.py:124> wait_for=<Future pending cb=[Task.task_wakeup()]>>\n"
     ]
    },
    {
     "name": "stdout",
     "output_type": "stream",
     "text": [
      "# DataAnalysisAgent\n",
      "### Key Findings:\n",
      "1. **Top Customer**: GM (Customer ID: 1) is the highest-paying customer, with total sales of $4,060.79. Their purchases dominate the sales data.\n",
      "2. **Top Product by GM**: The Brake Pad is the highest contributor to revenue from GM, with 73 units sold generating $3,213.50—about 79% of their total sales.\n",
      "3. **Other Significant Products**: GM also purchased Oil Filters (42 units, $507.75) and Spark Plugs (61 units, $342.88), but these account for only 12.5% and 8.5% of their total sales, respectively.\n",
      "\n",
      "---\n",
      "\n",
      "### Insights:\n",
      "1. **Concentration of Revenue**: The Brake Pad alone contributes a significant percentage (~79%) of GM’s total sales revenue. This indicates that GM relies heavily on this product.\n",
      "2. **High Interest in Automotive Parts**: GM primarily purchased automotive parts like Brake Pads, Oil Filters, and Spark Plugs, suggesting a focus on maintenance and repair items.\n",
      "3. **Potential Dependency**: GM's purchasing pattern may indicate dependency on your products for their operations or resale, creating an opportunity for stronger client relationships.\n",
      "\n",
      "---\n",
      "\n",
      "### Recommendations:\n",
      "1. **Develop a Targeted Plan for GM**:\n",
      "   - Offer bulk discounts or loyalty perks for Brake Pads since GM is a high-volume buyer of this product.\n",
      "   - Consider bundling related products (e.g., Brake Pads with Oil Filters or Spark Plugs) to encourage GM to increase their purchases across the product line.\n",
      "   \n",
      "2. **Monitor and Diversify Sales**:\n",
      "   - While sales to GM are strong, this customer contributes a significant share of the identified sales data. Consider strategies to diversify the customer base to reduce reliance on a single buyer.\n",
      "\n",
      "3. **Enhance Product Offerings**:\n",
      "   - With significant sales in automotive parts, explore complementary products (e.g., brake fluid, maintenance kits) to upsell to GM and similar customers.\n",
      "   - Introduce customized solutions for bulk buyers like GM to retain loyalty and upsell higher-margin products.\n",
      "\n",
      "4. **Strengthen Customer Relationship**:\n",
      "   - Reach out personally to GM with a dedicated relationship manager to understand their future purchasing plans and tailor sales strategies accordingly.\n",
      "   - Provide real-time updates about new automotive products that may interest them.\n",
      "\n",
      "---\n",
      "\n",
      "### Summary:\n",
      "GM is a significant contributor to your sales, primarily due to their demand for the Brake Pad product. Leveraging targeted discounts, introducing bundled offers, and expanding product options for automotive-related purchases could generate higher revenue from this client. Additionally, it’s essential to mitigate dependency on a single high-value customer by broadening your customer base. By deepening the relationship with GM and exploring cross-selling opportunities, you can optimize both revenue and customer satisfaction.\n"
     ]
    }
   ],
   "source": [
    "from semantic_kernel.agents.runtime import InProcessRuntime\n",
    "\n",
    "runtime = InProcessRuntime()\n",
    "runtime.start()"
   ]
  },
  {
   "cell_type": "code",
   "execution_count": 24,
   "id": "0a58e489",
   "metadata": {},
   "outputs": [],
   "source": [
    "orchestration_result = await sequential_orchestration.invoke(\n",
    "    task=\"Which customer has the highest total sales, and what are the top 3 products they purchased?\",\n",
    "    runtime=runtime,\n",
    ")"
   ]
  },
  {
   "cell_type": "code",
   "execution_count": null,
   "id": "cf62a3fa",
   "metadata": {},
   "outputs": [
    {
     "name": "stdout",
     "output_type": "stream",
     "text": [
      "***** Final Result *****\n",
      "### Key Findings:\n",
      "1. **Top Customer**: GM (Customer ID: 1) is the highest-paying customer, with total sales of $4,060.79. Their purchases dominate the sales data.\n",
      "2. **Top Product by GM**: The Brake Pad is the highest contributor to revenue from GM, with 73 units sold generating $3,213.50—about 79% of their total sales.\n",
      "3. **Other Significant Products**: GM also purchased Oil Filters (42 units, $507.75) and Spark Plugs (61 units, $342.88), but these account for only 12.5% and 8.5% of their total sales, respectively.\n",
      "\n",
      "---\n",
      "\n",
      "### Insights:\n",
      "1. **Concentration of Revenue**: The Brake Pad alone contributes a significant percentage (~79%) of GM’s total sales revenue. This indicates that GM relies heavily on this product.\n",
      "2. **High Interest in Automotive Parts**: GM primarily purchased automotive parts like Brake Pads, Oil Filters, and Spark Plugs, suggesting a focus on maintenance and repair items.\n",
      "3. **Potential Dependency**: GM's purchasing pattern may indicate dependency on your products for their operations or resale, creating an opportunity for stronger client relationships.\n",
      "\n",
      "---\n",
      "\n",
      "### Recommendations:\n",
      "1. **Develop a Targeted Plan for GM**:\n",
      "   - Offer bulk discounts or loyalty perks for Brake Pads since GM is a high-volume buyer of this product.\n",
      "   - Consider bundling related products (e.g., Brake Pads with Oil Filters or Spark Plugs) to encourage GM to increase their purchases across the product line.\n",
      "   \n",
      "2. **Monitor and Diversify Sales**:\n",
      "   - While sales to GM are strong, this customer contributes a significant share of the identified sales data. Consider strategies to diversify the customer base to reduce reliance on a single buyer.\n",
      "\n",
      "3. **Enhance Product Offerings**:\n",
      "   - With significant sales in automotive parts, explore complementary products (e.g., brake fluid, maintenance kits) to upsell to GM and similar customers.\n",
      "   - Introduce customized solutions for bulk buyers like GM to retain loyalty and upsell higher-margin products.\n",
      "\n",
      "4. **Strengthen Customer Relationship**:\n",
      "   - Reach out personally to GM with a dedicated relationship manager to understand their future purchasing plans and tailor sales strategies accordingly.\n",
      "   - Provide real-time updates about new automotive products that may interest them.\n",
      "\n",
      "---\n",
      "\n",
      "### Summary:\n",
      "GM is a significant contributor to your sales, primarily due to their demand for the Brake Pad product. Leveraging targeted discounts, introducing bundled offers, and expanding product options for automotive-related purchases could generate higher revenue from this client. Additionally, it’s essential to mitigate dependency on a single high-value customer by broadening your customer base. By deepening the relationship with GM and exploring cross-selling opportunities, you can optimize both revenue and customer satisfaction.\n"
     ]
    }
   ],
   "source": [
    "value = await orchestration_result.get(timeout=30)\n",
    "print(f\"***** Final Result *****\\n{value}\")"
   ]
  },
  {
   "cell_type": "code",
   "execution_count": 26,
   "id": "7d27cf40",
   "metadata": {},
   "outputs": [],
   "source": [
    "await runtime.stop_when_idle()"
   ]
  }
 ],
 "metadata": {
  "kernelspec": {
   "display_name": ".venv",
   "language": "python",
   "name": "python3"
  },
  "language_info": {
   "codemirror_mode": {
    "name": "ipython",
    "version": 3
   },
   "file_extension": ".py",
   "mimetype": "text/x-python",
   "name": "python",
   "nbconvert_exporter": "python",
   "pygments_lexer": "ipython3",
   "version": "3.12.10"
  }
 },
 "nbformat": 4,
 "nbformat_minor": 5
}
