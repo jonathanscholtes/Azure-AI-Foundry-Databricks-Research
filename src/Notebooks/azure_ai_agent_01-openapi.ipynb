{
 "cells": [
  {
   "cell_type": "code",
   "execution_count": 2,
   "id": "f726bd31",
   "metadata": {},
   "outputs": [],
   "source": [
    "! pip install -r requirements.txt --quiet"
   ]
  },
  {
   "cell_type": "markdown",
   "id": "460ecb91",
   "metadata": {},
   "source": [
    "# Creating and Deploying an Azure AI Agent Using SDK and OpenAPI Tools\n",
    "\n",
    "This notebook demonstrates how to create and deploy an Azure AI Agent using the Azure SDK, with tools generated from an OpenAPI endpoint. It provides a coded example that mirrors the portal example demonstrated in this workshop, offering a programmatic approach to deploying agents with OpenAPI-driven tools.\n",
    "\n",
    "\n",
    "🔗 [How to use Azure AI Agent Service with OpenAPI Specified Tools](https://learn.microsoft.com/en-us/azure/ai-services/agents/how-to/tools/openapi-spec?tabs=python&pivots=code-example)"
   ]
  },
  {
   "cell_type": "code",
   "execution_count": 1,
   "id": "1b478234",
   "metadata": {},
   "outputs": [
    {
     "data": {
      "text/plain": [
       "True"
      ]
     },
     "execution_count": 1,
     "metadata": {},
     "output_type": "execute_result"
    }
   ],
   "source": [
    "\n",
    "from os import environ\n",
    "from dotenv import load_dotenv\n",
    "from azure.ai.projects import AIProjectClient\n",
    "from azure.identity import DefaultAzureCredential\n",
    "from azure.ai.agents.models import OpenApiTool, OpenApiAnonymousAuthDetails\n",
    "import requests\n",
    "\n",
    "load_dotenv(override=True)"
   ]
  },
  {
   "cell_type": "markdown",
   "id": "0a862bfa",
   "metadata": {},
   "source": [
    "## Create a project client"
   ]
  },
  {
   "cell_type": "code",
   "execution_count": 2,
   "id": "36653bcd",
   "metadata": {},
   "outputs": [],
   "source": [
    "\n",
    "# Create an AIProjectClient instance\n",
    "project_client = AIProjectClient(\n",
    "    endpoint=environ[\"PROJECT_ENDPOINT\"],\n",
    "    credential=DefaultAzureCredential(),  # Use Azure Default Credential for authentication\n",
    ")"
   ]
  },
  {
   "cell_type": "markdown",
   "id": "4581ee78",
   "metadata": {},
   "source": [
    "## Create the OpenAPI Spec tool definition\n",
    "\n",
    "Our Agent will create its tools from our deployed OpenAPI endpoints, for this to work we will need to pass in the openapi.json spec document."
   ]
  },
  {
   "cell_type": "code",
   "execution_count": 3,
   "id": "a2dce8f5",
   "metadata": {},
   "outputs": [],
   "source": [
    "spec_url = environ['OPENAPI_URL']\n",
    "response = requests.get(spec_url)\n",
    "response.raise_for_status()\n",
    "\n",
    "\n",
    "openapi_spec = response.json()\n",
    "\n",
    "auth = OpenApiAnonymousAuthDetails()\n",
    "\n",
    "openapi = OpenApiTool(name=\"AutomotiveSalesService\", spec=openapi_spec, description=\"Retrieve automotive sales data for query and advanced analytics\", auth=auth)\n",
    "\n",
    "\n"
   ]
  },
  {
   "cell_type": "markdown",
   "id": "907444e4",
   "metadata": {},
   "source": [
    "## Create an agent and a thread"
   ]
  },
  {
   "cell_type": "code",
   "execution_count": 4,
   "id": "ee7bf68c",
   "metadata": {},
   "outputs": [
    {
     "name": "stdout",
     "output_type": "stream",
     "text": [
      "Created agent, ID: asst_og9q1JWLHgXbgZxj6TicGE0a\n"
     ]
    }
   ],
   "source": [
    "instructions = \"\"\"You are AutoSales Analyst, an AI agent specialized in analyzing automotive sales data.\n",
    "\n",
    "You have access to the following OpenAPI endpoints as tools:\n",
    "1. /orders: Retrieve sales orders with nested order lines and product details.\n",
    "   - Supports filters: customer_id, product_id, start_date, end_date, region.\n",
    "2. /products: Retrieve product catalog, optionally filtered by category.\n",
    "3. /customers: Retrieve customer data.\n",
    "\n",
    "Your objectives:\n",
    "- Interpret user questions about sales data and dynamically decide which endpoints to call.\n",
    "- Always include the customer name along with the customer ID in any output.\n",
    "- Always show all monetary amounts in USD (e.g., $123.45).\n",
    "- Use filters and aggregations on /orders, /products, and /customers to generate insights.\n",
    "- Compute totals, revenue, discounts, and other metrics from the nested order data.\n",
    "- Return structured, concise results suitable for analysis or reporting.\n",
    "- Avoid hardcoding analytics; instead, dynamically use the endpoints and their filters.\n",
    "- Clarify ambiguous user queries before performing analysis.\n",
    "- Always assume the endpoints are the source of truth; do not expose raw database internals.\n",
    "\n",
    "Examples of user questions you may handle:\n",
    "- “Which products generated the most revenue in the EU last quarter?”\n",
    "- “Who are the top 5 customers by total sales this month?”\n",
    "- “How much discount was given per product category in Q2?”\n",
    "- “List all orders for customer 42 containing product 7.”\n",
    "\"\"\"\n",
    "\n",
    "\n",
    "\n",
    "agent = project_client.agents.create_agent(\n",
    "    model=\"gpt-4o\",\n",
    "    name=\"Sales Insights Agent OpenAPI\",\n",
    "    instructions=instructions,\n",
    "    tools=openapi.definitions\n",
    ")\n",
    "\n",
    "print(f\"Created agent, ID: {agent.id}\")\n",
    "\n",
    "# Create thread for communication\n",
    "#thread = project_client.agents.threads.create()\n",
    "#print(f\"Created thread, ID: {thread.id}\")\n",
    "\n"
   ]
  },
  {
   "cell_type": "markdown",
   "id": "e80046d0",
   "metadata": {},
   "source": [
    "## Create a run and check the output"
   ]
  },
  {
   "cell_type": "code",
   "execution_count": 5,
   "id": "d2054366",
   "metadata": {},
   "outputs": [],
   "source": [
    "#message = project_client.agents.messages.create(\n",
    "#    thread_id=thread.id,\n",
    "#    role=\"user\",\n",
    "#    content=\"Which 3 customers have the highest sales for the year 2024?\",\n",
    "#)\n",
    "#print(f\"Created message, ID: {message.id}\")\n",
    "\n",
    "# Create and process agent run in thread with tools\n",
    "#run = project_client.agents.runs.create_and_process(thread_id=thread.id, agent_id=agent.id)\n",
    "#print(f\"Run finished with status: {run.status}\")\n",
    "\n",
    "#if run.status == \"failed\":\n",
    "#    print(f\"Run failed: {run.last_error}\")\n",
    "\n",
    "# Fetch and log all messages\n",
    "#messages = project_client.agents.messages.list(thread_id=thread.id)\n",
    "#print(f\"Messages: {messages}\")"
   ]
  },
  {
   "cell_type": "markdown",
   "id": "46ac735e",
   "metadata": {},
   "source": [
    "## Delete the assistant when done\n",
    "\n",
    "Comment the code below to save the agent to your Azure AI Froundry project.\n"
   ]
  },
  {
   "cell_type": "code",
   "execution_count": 6,
   "id": "92acf369",
   "metadata": {},
   "outputs": [],
   "source": [
    "\n",
    "#project_client.agents.delete_agent(agent.id)\n",
    "#print(\"Deleted agent\")"
   ]
  }
 ],
 "metadata": {
  "kernelspec": {
   "display_name": ".venv",
   "language": "python",
   "name": "python3"
  },
  "language_info": {
   "codemirror_mode": {
    "name": "ipython",
    "version": 3
   },
   "file_extension": ".py",
   "mimetype": "text/x-python",
   "name": "python",
   "nbconvert_exporter": "python",
   "pygments_lexer": "ipython3",
   "version": "3.12.10"
  }
 },
 "nbformat": 4,
 "nbformat_minor": 5
}
